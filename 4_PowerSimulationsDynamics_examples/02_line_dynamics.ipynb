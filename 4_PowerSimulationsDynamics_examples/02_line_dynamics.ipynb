{
 "cells": [
  {
   "cell_type": "markdown",
   "source": [
    "Line Modeling simulation with [PowerSimulationsDynamics.jl](https://github.com/NREL-SIIP/PowerSimulationsDynamics.jl)"
   ],
   "metadata": {}
  },
  {
   "cell_type": "markdown",
   "source": [
    "**Originally Contributed by**: Rodrigo Henriquez and José Daniel Lara"
   ],
   "metadata": {}
  },
  {
   "cell_type": "markdown",
   "source": [
    "## Introduction"
   ],
   "metadata": {}
  },
  {
   "cell_type": "markdown",
   "source": [
    "This tutorial will introduce an example of considering dynamic lines in `PowerSimulationsDynamics`.\n",
    "Note that this tutorial is for `PowerSimulationsDynamics`."
   ],
   "metadata": {}
  },
  {
   "cell_type": "markdown",
   "source": [
    "This tutorial presents a simulation of a three-bus system, with an infinite bus (represented as a\n",
    "voltage source behind an impedance) at bus 1, a one d- one q- machine on bus 2 and an inverter\n",
    "of 19 states, as a virtual synchronous machine at bus 3. The perturbation will be the trip of\n",
    "two of the three circuits (triplicating its resistance and impedance) of the line that connects\n",
    "bus 1 and bus 3. This case also consider a dynamic line model for connection between buses\n",
    "2 and 3. We will compare it against a system without dynamic lines."
   ],
   "metadata": {}
  },
  {
   "cell_type": "markdown",
   "source": [
    "In addition, note that `PowerSimulationsDynamics` will convert ConstantPower loads to RLC\n",
    "loads for transient simulations."
   ],
   "metadata": {}
  },
  {
   "cell_type": "markdown",
   "source": [
    "It is recommended to check `Tutorial 1: OMIB` first, since that includes more details and\n",
    "explanations on all definitions and functions."
   ],
   "metadata": {}
  },
  {
   "cell_type": "markdown",
   "source": [
    "# Step 1: Package Initialization"
   ],
   "metadata": {}
  },
  {
   "outputs": [],
   "cell_type": "code",
   "source": [
    "using SIIPExamples #hide\n",
    "using PowerSimulationsDynamics\n",
    "using PowerSystems\n",
    "using Sundials\n",
    "using Plots\n",
    "PSD = PowerSimulationsDynamics"
   ],
   "metadata": {},
   "execution_count": null
  },
  {
   "cell_type": "markdown",
   "source": [
    "# Step 2: Data creation"
   ],
   "metadata": {}
  },
  {
   "outputs": [],
   "cell_type": "code",
   "source": [
    "file_dir = joinpath(\n",
    "    dirname(dirname(pathof(SIIPExamples))),\n",
    "    \"script\",\n",
    "    \"4_PowerSimulationsDynamics_examples\",\n",
    "    \"Data\",\n",
    ")\n",
    "threebus_sys = System(joinpath(file_dir, \"threebus_sys.json\"));"
   ],
   "metadata": {},
   "execution_count": null
  },
  {
   "cell_type": "markdown",
   "source": [
    "In addition, we will create a new copy of the system on which we will simulate the same\n",
    "case, but will consider dynamic lines:"
   ],
   "metadata": {}
  },
  {
   "outputs": [],
   "cell_type": "code",
   "source": [
    "threebus_sys_dyn = deepcopy(threebus_sys);"
   ],
   "metadata": {},
   "execution_count": null
  },
  {
   "cell_type": "markdown",
   "source": [
    "# Step 3: Create the fault and simulation on the Static Lines system"
   ],
   "metadata": {}
  },
  {
   "cell_type": "markdown",
   "source": [
    "First, we construct the perturbation, by properly computing the new Ybus on the system:"
   ],
   "metadata": {}
  },
  {
   "outputs": [],
   "cell_type": "code",
   "source": [
    "#Make a copy of the original system\n",
    "sys2 = deepcopy(threebus_sys)\n",
    "#Triplicates the impedance of the line named \"BUS 1-BUS 3-i_1\"\n",
    "fault_branches = get_components(ACBranch, sys2)\n",
    "for br in fault_branches\n",
    "    if get_name(br) == \"BUS 1-BUS 3-i_1\"\n",
    "        br.r = 3 * br.r\n",
    "        br.x = 3 * br.x\n",
    "        b_new = (from = br.b.from / 3, to = br.b.to / 3)\n",
    "        br.b = b_new\n",
    "    end\n",
    "end\n",
    "#Obtain the new Ybus\n",
    "Ybus_fault = Ybus(sys2).data\n",
    "#Define Fault: Change of YBus\n",
    "Ybus_change = NetworkSwitch(\n",
    "    1.0, #change at t = 1.0\n",
    "    Ybus_fault, #New YBus\n",
    ");"
   ],
   "metadata": {},
   "execution_count": null
  },
  {
   "cell_type": "markdown",
   "source": [
    "Now, we construct the simulation:"
   ],
   "metadata": {}
  },
  {
   "outputs": [],
   "cell_type": "code",
   "source": [
    "#Time span of our simulation\n",
    "tspan = (0.0, 30.0)\n",
    "\n",
    "#Define Simulation\n",
    "sim = PSD.Simulation(\n",
    "    ResidualModel, #Type of model used\n",
    "    threebus_sys, #system\n",
    "    pwd(), #folder to output results\n",
    "    tspan, #time span\n",
    "    Ybus_change, #Type of perturbation\n",
    ")"
   ],
   "metadata": {},
   "execution_count": null
  },
  {
   "cell_type": "markdown",
   "source": [
    "We can obtain the initial conditions as:"
   ],
   "metadata": {}
  },
  {
   "outputs": [],
   "cell_type": "code",
   "source": [
    "#Will print the initial states. It also give the symbols used to describe those states.\n",
    "show_states_initial_value(sim)\n",
    "\n",
    "#Will export a dictionary with the initial condition values to explore\n",
    "x0_init = PSD.get_initial_conditions(sim)"
   ],
   "metadata": {},
   "execution_count": null
  },
  {
   "cell_type": "markdown",
   "source": [
    "# Step 4: Run the simulation of the Static Lines System"
   ],
   "metadata": {}
  },
  {
   "outputs": [],
   "cell_type": "code",
   "source": [
    "#Run the simulation\n",
    "PSD.execute!(\n",
    "    sim, #simulation structure\n",
    "    IDA(), #Sundials DAE Solver\n",
    "    dtmax = 0.02, #Maximum step size\n",
    ")"
   ],
   "metadata": {},
   "execution_count": null
  },
  {
   "cell_type": "markdown",
   "source": [
    "# Step 5: Store the solution"
   ],
   "metadata": {}
  },
  {
   "outputs": [],
   "cell_type": "code",
   "source": [
    "results = read_results(sim)\n",
    "series2 = get_voltage_magnitude_series(results, 102)\n",
    "zoom = [\n",
    "    (series2[1][ix], series2[2][ix]) for\n",
    "    (ix, s) in enumerate(series2[1]) if (s > 0.90 && s < 1.6)\n",
    "];"
   ],
   "metadata": {},
   "execution_count": null
  },
  {
   "cell_type": "markdown",
   "source": [
    "# Step 3.1: Create the fault and simulation on the Dynamic Lines system"
   ],
   "metadata": {}
  },
  {
   "cell_type": "markdown",
   "source": [
    "An important aspect to consider is that DynamicLines must not be considered in the computation of the Ybus. First we construct the Dynamic Line, by finding the Line named \"BUS 2-BUS 3-i_3\", and then adding it to the system."
   ],
   "metadata": {}
  },
  {
   "cell_type": "markdown",
   "source": [
    "get component return the Branch on threebus_sys_dyn named \"BUS 2-BUS 3-i_3\""
   ],
   "metadata": {}
  },
  {
   "outputs": [],
   "cell_type": "code",
   "source": [
    "dyn_branch = DynamicBranch(get_component(Branch, threebus_sys_dyn, \"BUS 2-BUS 3-i_3\"))"
   ],
   "metadata": {},
   "execution_count": null
  },
  {
   "cell_type": "markdown",
   "source": [
    "Adding a dynamic line will immediately remove the static line from the system."
   ],
   "metadata": {}
  },
  {
   "outputs": [],
   "cell_type": "code",
   "source": [
    "add_component!(threebus_sys_dyn, dyn_branch)"
   ],
   "metadata": {},
   "execution_count": null
  },
  {
   "cell_type": "markdown",
   "source": [
    "Similarly, we construct the Ybus fault by creating a copy of the original system, but\n",
    "removing the Line \"BUS 2-BUS 3-i_3\" to avoid considering it in the Ybus:"
   ],
   "metadata": {}
  },
  {
   "outputs": [],
   "cell_type": "code",
   "source": [
    "#Make a copy of the original system\n",
    "sys3 = deepcopy(threebus_sys);\n",
    "#Remove Line \"BUS 2-BUS 3-i_3\"\n",
    "remove_component!(Line, sys3, \"BUS 2-BUS 3-i_3\")\n",
    "#Triplicates the impedance of the line named \"BUS 1-BUS 2-i_1\"\n",
    "fault_branches2 = get_components(Line, sys3)\n",
    "for br in fault_branches2\n",
    "    if get_name(br) == \"BUS 1-BUS 3-i_1\"\n",
    "        br.r = 3 * br.r\n",
    "        br.x = 3 * br.x\n",
    "        b_new = (from = br.b.from / 3, to = br.b.to / 3)\n",
    "        br.b = b_new\n",
    "    end\n",
    "end\n",
    "#Obtain the new Ybus\n",
    "Ybus_fault_dyn = Ybus(sys3).data\n",
    "#Define Fault: Change of YBus\n",
    "Ybus_change_dyn = NetworkSwitch(\n",
    "    1.0, #change at t = 1.0\n",
    "    Ybus_fault_dyn, #New YBus\n",
    ")"
   ],
   "metadata": {},
   "execution_count": null
  },
  {
   "cell_type": "markdown",
   "source": [
    "# Step 4.1: Run the simulation of the Dynamic Lines System"
   ],
   "metadata": {}
  },
  {
   "cell_type": "markdown",
   "source": [
    "Now, we construct the simulation:"
   ],
   "metadata": {}
  },
  {
   "cell_type": "markdown",
   "source": [
    "Define Simulation"
   ],
   "metadata": {}
  },
  {
   "outputs": [],
   "cell_type": "code",
   "source": [
    "sim_dyn = PSD.Simulation(\n",
    "    ResidualModel, #Type of model used\n",
    "    threebus_sys_dyn, #system\n",
    "    pwd(), #folder to output results\n",
    "    (0.0, 30.0), #time span\n",
    "    Ybus_change_dyn, #Type of perturbation\n",
    ")"
   ],
   "metadata": {},
   "execution_count": null
  },
  {
   "cell_type": "markdown",
   "source": [
    "Run the simulation"
   ],
   "metadata": {}
  },
  {
   "outputs": [],
   "cell_type": "code",
   "source": [
    "PSD.execute!(\n",
    "    sim_dyn, #simulation structure\n",
    "    IDA(), #Sundials DAE Solver\n",
    "    dtmax = 0.02, #Maximum step size\n",
    ")"
   ],
   "metadata": {},
   "execution_count": null
  },
  {
   "cell_type": "markdown",
   "source": [
    "We can obtain the initial conditions as:"
   ],
   "metadata": {}
  },
  {
   "outputs": [],
   "cell_type": "code",
   "source": [
    "#Will print the initial states. It also give the symbols used to describe those states.\n",
    "show_states_initial_value(sim_dyn)\n",
    "#Will export a dictionary with the initial condition values to explore\n",
    "x0_init_dyn = PSD.get_initial_conditions(sim_dyn)"
   ],
   "metadata": {},
   "execution_count": null
  },
  {
   "cell_type": "markdown",
   "source": [
    "# Step 5.1: Store the solution"
   ],
   "metadata": {}
  },
  {
   "outputs": [],
   "cell_type": "code",
   "source": [
    "results_dyn = read_results(sim_dyn)\n",
    "series2_dyn = get_voltage_magnitude_series(results_dyn, 102)\n",
    "zoom_dyn = [\n",
    "    (series2_dyn[1][ix], series2_dyn[2][ix]) for\n",
    "    (ix, s) in enumerate(series2_dyn[1]) if (s > 0.90 && s < 1.6)\n",
    "];"
   ],
   "metadata": {},
   "execution_count": null
  },
  {
   "cell_type": "markdown",
   "source": [
    "# Step 6.1: Compare the solutions:"
   ],
   "metadata": {}
  },
  {
   "cell_type": "markdown",
   "source": [
    "We can observe the effect of Dynamic Lines"
   ],
   "metadata": {}
  },
  {
   "outputs": [],
   "cell_type": "code",
   "source": [
    "plot(series2_dyn, label = \"V_gen_dyn\")\n",
    "plot!(series2, label = \"V_gen_st\", xlabel = \"Time [s]\", ylabel = \"Voltage [pu]\")"
   ],
   "metadata": {},
   "execution_count": null
  },
  {
   "cell_type": "markdown",
   "source": [
    "that looks quite similar. The differences can be observed in the zoom plot:"
   ],
   "metadata": {}
  },
  {
   "outputs": [],
   "cell_type": "code",
   "source": [
    "plot(zoom_dyn, label = \"V_gen_dyn\")\n",
    "plot!(zoom, label = \"V_gen_st\", xlabel = \"Time [s]\", ylabel = \"Voltage [pu]\")"
   ],
   "metadata": {},
   "execution_count": null
  },
  {
   "cell_type": "markdown",
   "source": [
    "---\n",
    "\n",
    "*This notebook was generated using [Literate.jl](https://github.com/fredrikekre/Literate.jl).*"
   ],
   "metadata": {}
  }
 ],
 "nbformat_minor": 3,
 "metadata": {
  "language_info": {
   "file_extension": ".jl",
   "mimetype": "application/julia",
   "name": "julia",
   "version": "1.7.2"
  },
  "kernelspec": {
   "name": "julia-1.7",
   "display_name": "Julia 1.7.2",
   "language": "julia"
  }
 },
 "nbformat": 4
}
