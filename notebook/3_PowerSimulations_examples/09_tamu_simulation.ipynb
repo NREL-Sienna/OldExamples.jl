{
 "cells": [
  {
   "cell_type": "markdown",
   "source": [
    "# Simulations with TAMU data and [PowerSimulations.jl](https://github.com/NREL/PowerSimulations.jl)"
   ],
   "metadata": {}
  },
  {
   "cell_type": "markdown",
   "source": [
    "**Originally Contributed by**: Clayton Barrows"
   ],
   "metadata": {}
  },
  {
   "cell_type": "markdown",
   "source": [
    "## Introduction"
   ],
   "metadata": {}
  },
  {
   "cell_type": "markdown",
   "source": [
    "This is a basic simulation example using the [TAMU Cases](https://electricgrids.engr.tamu.edu/)."
   ],
   "metadata": {}
  },
  {
   "cell_type": "markdown",
   "source": [
    "## Dependencies"
   ],
   "metadata": {}
  },
  {
   "outputs": [],
   "cell_type": "code",
   "source": [
    "using SIIPExamples\n",
    "pkgpath = dirname(dirname(pathof(SIIPExamples)))\n",
    "using Dates"
   ],
   "metadata": {},
   "execution_count": 1
  },
  {
   "cell_type": "markdown",
   "source": [
    "### Modeling Packages"
   ],
   "metadata": {}
  },
  {
   "outputs": [],
   "cell_type": "code",
   "source": [
    "using PowerSystems\n",
    "using PowerSimulations\n",
    "using PowerSystemCaseBuilder"
   ],
   "metadata": {},
   "execution_count": 2
  },
  {
   "cell_type": "markdown",
   "source": [
    "### Optimization packages\n",
    "For this simple example, we can use the Cbc solver with a relatively relaxed tolerance."
   ],
   "metadata": {}
  },
  {
   "outputs": [
    {
     "output_type": "execute_result",
     "data": {
      "text/plain": "MathOptInterface.OptimizerWithAttributes(Cbc.Optimizer, Pair{MathOptInterface.AbstractOptimizerAttribute, Any}[MathOptInterface.RawParameter(\"logLevel\") => 1, MathOptInterface.RawParameter(\"ratioGap\") => 0.5])"
     },
     "metadata": {},
     "execution_count": 3
    }
   ],
   "cell_type": "code",
   "source": [
    "using Cbc #solver\n",
    "solver = optimizer_with_attributes(Cbc.Optimizer, \"logLevel\" => 1, \"ratioGap\" => 0.5)"
   ],
   "metadata": {},
   "execution_count": 3
  },
  {
   "cell_type": "markdown",
   "source": [
    "### Create a `System` from TAMU data\n",
    "We have included some of the TAMU cases (with truncated time series info)\n",
    "in the PowerSystemCaseBuilder testing, so we can just use that."
   ],
   "metadata": {}
  },
  {
   "outputs": [
    {
     "name": "stdout",
     "output_type": "stream",
     "text": [
      "[ Info: Loaded time series from storage file existing=tamu_ACTIVSg2000_sys_time_series_storage.h5 new=/var/folders/cl/82k90gj95354kc6wkt_csckskd0_94/T/jl_s8NF6F compression=InfrastructureSystems.CompressionSettings(false, InfrastructureSystems.CompressionTypesModule.CompressionTypes.DEFLATE = 1, 3, true)\n",
      "┌ Warning: Rate 221.0 MW for PASADENA 2 2-7004-DEER PARK 2 -7106-i_1641 is larger than the max expected in the range of (min = 47.0, max = 52.0).\n",
      "└ @ PowerSystems ~/.julia/packages/PowerSystems/61h6O/src/utils/IO/branchdata_checks.jl:148\n",
      "┌ Warning: Rate 98.0 MW for PRAIRIE VI~1-7010-PATTISON 0  -7182-i_1647 is larger than the max expected in the range of (min = 47.0, max = 52.0).\n",
      "└ @ PowerSystems ~/.julia/packages/PowerSystems/61h6O/src/utils/IO/branchdata_checks.jl:148\n",
      "┌ Warning: Rate 251.0 MW for GORDON 0    -5190-DE LEON 0   -5264-i_989 is larger than the max expected in the range of (min = 47.0, max = 52.0).\n",
      "└ @ PowerSystems ~/.julia/packages/PowerSystems/61h6O/src/utils/IO/branchdata_checks.jl:148\n",
      "┌ Warning: Rate 221.0 MW for AUSTIN 3 2  -6040-AUSTIN 25 0 -6019-i_1268 is larger than the max expected in the range of (min = 47.0, max = 52.0).\n",
      "└ @ PowerSystems ~/.julia/packages/PowerSystems/61h6O/src/utils/IO/branchdata_checks.jl:148\n",
      "┌ Warning: Rate 187.0 MW for DESOTO 0    -5157-DUNCANVILL~1-5194-i_928 is larger than the max expected in the range of (min = 47.0, max = 52.0).\n",
      "└ @ PowerSystems ~/.julia/packages/PowerSystems/61h6O/src/utils/IO/branchdata_checks.jl:148\n",
      "┌ Warning: Rate 250.0 MW for ABILENE 6 0 -3077-TUSOCOLA 0  -3131-i_313 is larger than the max expected in the range of (min = 47.0, max = 52.0).\n",
      "└ @ PowerSystems ~/.julia/packages/PowerSystems/61h6O/src/utils/IO/branchdata_checks.jl:148\n",
      "┌ Warning: Rate 221.0 MW for AUSTIN 6 0  -6018-AUSTIN 2 2  -6256-i_1265 is larger than the max expected in the range of (min = 47.0, max = 52.0).\n",
      "└ @ PowerSystems ~/.julia/packages/PowerSystems/61h6O/src/utils/IO/branchdata_checks.jl:148\n",
      "┌ Warning: Rate 98.0 MW for SANTA FE 1 0-7213-TEXAS CITY~3-7273-i_2026 is larger than the max expected in the range of (min = 47.0, max = 52.0).\n",
      "└ @ PowerSystems ~/.julia/packages/PowerSystems/61h6O/src/utils/IO/branchdata_checks.jl:148\n",
      "┌ Warning: Rate 187.0 MW for GRAPEVINE 0 -5245-SOUTHLAKE 0 -5339-i_1057 is larger than the max expected in the range of (min = 47.0, max = 52.0).\n",
      "└ @ PowerSystems ~/.julia/packages/PowerSystems/61h6O/src/utils/IO/branchdata_checks.jl:148\n",
      "┌ Warning: Rate 98.0 MW for EDEN 0      -3132-MASON 0     -3075-i_310 is larger than the max expected in the range of (min = 47.0, max = 52.0).\n",
      "└ @ PowerSystems ~/.julia/packages/PowerSystems/61h6O/src/utils/IO/branchdata_checks.jl:148\n",
      "┌ Warning: Rate 221.0 MW for MISSOURI C~1-7052-RICHMOND 1 0-7053-i_1742 is larger than the max expected in the range of (min = 47.0, max = 52.0).\n",
      "└ @ PowerSystems ~/.julia/packages/PowerSystems/61h6O/src/utils/IO/branchdata_checks.jl:148\n",
      "┌ Warning: Rate 300.0 MW for MISSION 3 0 -4079-MISSION 4 1 -4040-i_436 is larger than the max expected in the range of (min = 47.0, max = 52.0).\n",
      "└ @ PowerSystems ~/.julia/packages/PowerSystems/61h6O/src/utils/IO/branchdata_checks.jl:148\n",
      "┌ Warning: Rate 2020.0 MW for KATY 3 0    -7341-WHARTON 1 0 -7304-i_2154 is larger than the max expected in the range of (min = 850.0, max = 1075.0).\n",
      "└ @ PowerSystems ~/.julia/packages/PowerSystems/61h6O/src/utils/IO/branchdata_checks.jl:148\n",
      "┌ Warning: Rate 250.0 MW for SUGAR LAND~1-7087-SUGAR LAND~4-7127-i_1816 is larger than the max expected in the range of (min = 47.0, max = 52.0).\n",
      "└ @ PowerSystems ~/.julia/packages/PowerSystems/61h6O/src/utils/IO/branchdata_checks.jl:148\n",
      "┌ Warning: Rate 300.0 MW for HOUSTON 4 2 -7188-HOUSTON 39 0-7255-i_2012 is larger than the max expected in the range of (min = 47.0, max = 52.0).\n",
      "└ @ PowerSystems ~/.julia/packages/PowerSystems/61h6O/src/utils/IO/branchdata_checks.jl:148\n",
      "┌ Warning: Rate 221.0 MW for SAN ANTON~14-6220-SAN ANTON~37-6121-i_1437 is larger than the max expected in the range of (min = 47.0, max = 52.0).\n",
      "└ @ PowerSystems ~/.julia/packages/PowerSystems/61h6O/src/utils/IO/branchdata_checks.jl:148\n",
      "┌ Warning: Rate 548.0 MW for CONROE 5 0  -7035-WILLIS 1 1  -7390-i_1702 is larger than the max expected in the range of (min = 134.0, max = 145.0).\n",
      "└ @ PowerSystems ~/.julia/packages/PowerSystems/61h6O/src/utils/IO/branchdata_checks.jl:148\n",
      "┌ Warning: Rate 149.0 MW for RICHMOND 2 0-7088-WALLIS 0    -7116-i_1825 is larger than the max expected in the range of (min = 47.0, max = 52.0).\n",
      "└ @ PowerSystems ~/.julia/packages/PowerSystems/61h6O/src/utils/IO/branchdata_checks.jl:148\n",
      "┌ Warning: Rate 187.0 MW for FARMERSVIL~1-5408-JOSEPHINE 0 -5421-i_1206 is larger than the max expected in the range of (min = 47.0, max = 52.0).\n",
      "└ @ PowerSystems ~/.julia/packages/PowerSystems/61h6O/src/utils/IO/branchdata_checks.jl:148\n",
      "┌ Warning: Rate 221.0 MW for HOUSTON 2 0 -7145-CROSBY 0    -7243-i_1921 is larger than the max expected in the range of (min = 47.0, max = 52.0).\n",
      "└ @ PowerSystems ~/.julia/packages/PowerSystems/61h6O/src/utils/IO/branchdata_checks.jl:148\n",
      "┌ Warning: Rate 98.0 MW for CUERO 2 1   -6173-YOAKUM 1    -6031-i_1305 is larger than the max expected in the range of (min = 47.0, max = 52.0).\n",
      "└ @ PowerSystems ~/.julia/packages/PowerSystems/61h6O/src/utils/IO/branchdata_checks.jl:148\n",
      "┌ Warning: Rate 187.0 MW for KOPPERL 0   -5247-WALNUT SPR~1-5209-i_1009 is larger than the max expected in the range of (min = 47.0, max = 52.0).\n",
      "└ @ PowerSystems ~/.julia/packages/PowerSystems/61h6O/src/utils/IO/branchdata_checks.jl:148\n",
      "┌ Warning: Rate 98.0 MW for JACKSONVIL~7-8121-RUSK 0      -8055-i_2281 is larger than the max expected in the range of (min = 47.0, max = 52.0).\n",
      "└ @ PowerSystems ~/.julia/packages/PowerSystems/61h6O/src/utils/IO/branchdata_checks.jl:148\n",
      "┌ Warning: Rate 221.0 MW for SAN ANGELO~3-3130-BIG LAKE 0  -1044-i_64 is larger than the max expected in the range of (min = 47.0, max = 52.0).\n",
      "└ @ PowerSystems ~/.julia/packages/PowerSystems/61h6O/src/utils/IO/branchdata_checks.jl:148\n",
      "┌ Warning: Rate 221.0 MW for SIMONTON 0  -7012-WALLIS 0    -7116-i_1652 is larger than the max expected in the range of (min = 47.0, max = 52.0).\n",
      "└ @ PowerSystems ~/.julia/packages/PowerSystems/61h6O/src/utils/IO/branchdata_checks.jl:148\n",
      "┌ Warning: Rate 548.0 MW for ROCKDALE 1 1-6108-PFLUGERVIL~2-6034-i_1310 is larger than the max expected in the range of (min = 134.0, max = 145.0).\n",
      "└ @ PowerSystems ~/.julia/packages/PowerSystems/61h6O/src/utils/IO/branchdata_checks.jl:148\n",
      "┌ Warning: Rate 98.0 MW for GOODFELLOW~1-3142-MILES 0     -3072-i_306 is larger than the max expected in the range of (min = 47.0, max = 52.0).\n",
      "└ @ PowerSystems ~/.julia/packages/PowerSystems/61h6O/src/utils/IO/branchdata_checks.jl:148\n",
      "┌ Warning: Rate 750.0 MW for ALBANY 1 1  -5395-ABILENE 1 0 -3088-i_319 is larger than the max expected in the range of (min = 134.0, max = 145.0).\n",
      "└ @ PowerSystems ~/.julia/packages/PowerSystems/61h6O/src/utils/IO/branchdata_checks.jl:148\n",
      "┌ Warning: Rate 310.0 MW for LEWISVILLE~4-5370-FLOWER MOU~1-5253-i_1072 is larger than the max expected in the range of (min = 47.0, max = 52.0).\n",
      "└ @ PowerSystems ~/.julia/packages/PowerSystems/61h6O/src/utils/IO/branchdata_checks.jl:148\n",
      "┌ Warning: Rate 750.0 MW for SARITA 1 0  -4140-CORPUS CH~18-4080-i_498 is larger than the max expected in the range of (min = 134.0, max = 145.0).\n",
      "└ @ PowerSystems ~/.julia/packages/PowerSystems/61h6O/src/utils/IO/branchdata_checks.jl:148\n",
      "┌ Warning: Rate 149.0 MW for DEL RIO 1   -3051-SANDERSON 0 -1012-i_20 is larger than the max expected in the range of (min = 47.0, max = 52.0).\n",
      "└ @ PowerSystems ~/.julia/packages/PowerSystems/61h6O/src/utils/IO/branchdata_checks.jl:148\n",
      "┌ Warning: Rate 149.0 MW for LOS FRESNO~1-4110-SAN BENITO 0-4171-i_523 is larger than the max expected in the range of (min = 47.0, max = 52.0).\n",
      "└ @ PowerSystems ~/.julia/packages/PowerSystems/61h6O/src/utils/IO/branchdata_checks.jl:148\n",
      "┌ Warning: Rate 98.0 MW for ETOILE 0    -8022-GARRISON 0  -8021-i_2247 is larger than the max expected in the range of (min = 47.0, max = 52.0).\n",
      "└ @ PowerSystems ~/.julia/packages/PowerSystems/61h6O/src/utils/IO/branchdata_checks.jl:148\n",
      "┌ Warning: Rate 221.0 MW for HOUSTON 18 0-7100-HOUSTON 24 0-7222-i_1857 is larger than the max expected in the range of (min = 47.0, max = 52.0).\n",
      "└ @ PowerSystems ~/.julia/packages/PowerSystems/61h6O/src/utils/IO/branchdata_checks.jl:148\n",
      "┌ Warning: Rate 221.0 MW for GREGORY 1   -4057-PORTLAND 0  -4145-i_466 is larger than the max expected in the range of (min = 47.0, max = 52.0).\n",
      "└ @ PowerSystems ~/.julia/packages/PowerSystems/61h6O/src/utils/IO/branchdata_checks.jl:148\n",
      "┌ Warning: Rate 409.0 MW for FORT WORT~16-5027-FORT WORT~17-5098-i_652 is larger than the max expected in the range of (min = 47.0, max = 52.0).\n",
      "└ @ PowerSystems ~/.julia/packages/PowerSystems/61h6O/src/utils/IO/branchdata_checks.jl:148\n",
      "┌ Warning: Rate 221.0 MW for HOUSTON 91 0-7396-KATY 2 1    -7410-i_2189 is larger than the max expected in the range of (min = 47.0, max = 52.0).\n",
      "└ @ PowerSystems ~/.julia/packages/PowerSystems/61h6O/src/utils/IO/branchdata_checks.jl:148\n",
      "┌ Warning: Rate 310.0 MW for GRAND PRAI~1-5145-DALLAS 2 1  -5323-i_899 is larger than the max expected in the range of (min = 47.0, max = 52.0).\n",
      "└ @ PowerSystems ~/.julia/packages/PowerSystems/61h6O/src/utils/IO/branchdata_checks.jl:148\n",
      "┌ Warning: Rate 187.0 MW for HUBBARD 0   -5211-DAWSON 0    -5275-i_1012 is larger than the max expected in the range of (min = 47.0, max = 52.0).\n",
      "└ @ PowerSystems ~/.julia/packages/PowerSystems/61h6O/src/utils/IO/branchdata_checks.jl:148\n",
      "┌ Warning: Rate 221.0 MW for SAN ANTON~67-6043-SAN ANTON~72-6236-i_1334 is larger than the max expected in the range of (min = 47.0, max = 52.0).\n",
      "└ @ PowerSystems ~/.julia/packages/PowerSystems/61h6O/src/utils/IO/branchdata_checks.jl:148\n",
      "┌ Warning: Rate 251.0 MW for LANCASTER ~1-5109-RED OAK 0   -5333-i_828 is larger than the max expected in the range of (min = 47.0, max = 52.0).\n",
      "└ @ PowerSystems ~/.julia/packages/PowerSystems/61h6O/src/utils/IO/branchdata_checks.jl:148\n",
      "┌ Warning: Rate 221.0 MW for LAPORTE 2   -7132-BAYTOWN 3 1 -7283-i_1904 is larger than the max expected in the range of (min = 47.0, max = 52.0).\n",
      "└ @ PowerSystems ~/.julia/packages/PowerSystems/61h6O/src/utils/IO/branchdata_checks.jl:148\n",
      "┌ Warning: Rate 221.0 MW for SAN ANTON~68-6026-SAN ANTON~54-6182-i_1291 is larger than the max expected in the range of (min = 47.0, max = 52.0).\n",
      "└ @ PowerSystems ~/.julia/packages/PowerSystems/61h6O/src/utils/IO/branchdata_checks.jl:148\n",
      "┌ Warning: Rate 310.0 MW for PLANO 2 0   -5010-PLANO 1 0   -5096-i_606 is larger than the max expected in the range of (min = 47.0, max = 52.0).\n",
      "└ @ PowerSystems ~/.julia/packages/PowerSystems/61h6O/src/utils/IO/branchdata_checks.jl:148\n",
      "┌ Warning: Rate 149.0 MW for JOURDANTON 0-4117-CHARLOTTE 0 -4016-i_379 is larger than the max expected in the range of (min = 47.0, max = 52.0).\n",
      "└ @ PowerSystems ~/.julia/packages/PowerSystems/61h6O/src/utils/IO/branchdata_checks.jl:148\n",
      "┌ Warning: Rate 2768.0 MW for LAPORTE 0   -7130-DEER PARK 0 -7104-i_1866 is larger than the max expected in the range of (min = 850.0, max = 1075.0).\n",
      "└ @ PowerSystems ~/.julia/packages/PowerSystems/61h6O/src/utils/IO/branchdata_checks.jl:148\n",
      "┌ Warning: Rate 98.0 MW for BIG SPRIN~13-1067-BIG SPRING~8-1005-i_12 is larger than the max expected in the range of (min = 47.0, max = 52.0).\n",
      "└ @ PowerSystems ~/.julia/packages/PowerSystems/61h6O/src/utils/IO/branchdata_checks.jl:148\n",
      "┌ Warning: Rate 98.0 MW for HOLLAND 1   -5459-ROGERS 1    -5391-i_1204 is larger than the max expected in the range of (min = 47.0, max = 52.0).\n",
      "└ @ PowerSystems ~/.julia/packages/PowerSystems/61h6O/src/utils/IO/branchdata_checks.jl:148\n",
      "┌ Warning: Rate 251.0 MW for TELEPHONE 0 -2122-BONHAM 0    -2030-i_134 is larger than the max expected in the range of (min = 47.0, max = 52.0).\n",
      "└ @ PowerSystems ~/.julia/packages/PowerSystems/61h6O/src/utils/IO/branchdata_checks.jl:148\n",
      "┌ Warning: Rate 221.0 MW for HOUSTON 83 0-7221-HOUSTON 84 0-7220-i_2045 is larger than the max expected in the range of (min = 47.0, max = 52.0).\n",
      "└ @ PowerSystems ~/.julia/packages/PowerSystems/61h6O/src/utils/IO/branchdata_checks.jl:148\n"
     ]
    }
   ],
   "cell_type": "code",
   "source": [
    "sys = build_system(PSYTestSystems, \"tamu_ACTIVSg2000_sys\")\n",
    "\n",
    "horizon = 24;\n",
    "interval = Dates.Hour(24);\n",
    "transform_single_time_series!(sys, horizon, interval);"
   ],
   "metadata": {},
   "execution_count": 4
  },
  {
   "cell_type": "markdown",
   "source": [
    "## Run a PCM\n",
    "note that the TAMU data doesn't contain startup and shutdown costs, or minimum up/down\n",
    "time limits, so a UC problem merely respects minmum generation levels."
   ],
   "metadata": {}
  },
  {
   "outputs": [
    {
     "name": "stdout",
     "output_type": "stream",
     "text": [
      "┌ Warning: No Feedforward Chronologies have been defined. This configuration assummes that there is no information passing between problems\n",
      "└ @ PowerSimulations ~/.julia/packages/PowerSimulations/A2jsx/src/core/simulation_sequence.jl:103\n"
     ]
    },
    {
     "output_type": "execute_result",
     "data": {
      "text/plain": "Feed Forward Chronology\n-----------------------\n\nInitial Condition Chronology\n----------------------------\n\n1\n\n"
     },
     "metadata": {},
     "execution_count": 5
    }
   ],
   "cell_type": "code",
   "source": [
    "sim_folder = mkpath(joinpath(pkgpath, \"TAMU-sim\"))\n",
    "problems = SimulationProblems(\n",
    "    UC = OperationsProblem(\n",
    "        template_unit_commitment(transmission = CopperPlatePowerModel),\n",
    "        sys,\n",
    "        optimizer = solver,\n",
    "    ),\n",
    ")\n",
    "intervals = Dict(\"UC\" => (Hour(24), Consecutive()))\n",
    "DA_sequence = SimulationSequence(\n",
    "    problems = problems,\n",
    "    intervals = intervals,\n",
    "    ini_cond_chronology = IntraProblemChronology(),\n",
    ")"
   ],
   "metadata": {},
   "execution_count": 5
  },
  {
   "cell_type": "markdown",
   "source": [
    "### Define and build a simulation"
   ],
   "metadata": {}
  },
  {
   "outputs": [
    {
     "name": "stdout",
     "output_type": "stream",
     "text": [
      "┌ Info: \n",
      "│  ──────────────────────────────────────────────────────────────────────────────\n",
      "│                                        Time                   Allocations      \n",
      "│                                ──────────────────────   ───────────────────────\n",
      "│        Tot / % measured:            12.9s / 100%            1.89GiB / 100%     \n",
      "│ \n",
      "│  Section               ncalls     time   %tot     avg     alloc   %tot      avg\n",
      "│  ──────────────────────────────────────────────────────────────────────────────\n",
      "│  Build Simulation           1    12.9s   100%   12.9s   1.89GiB  100%   1.89GiB\n",
      "│    Build Problems           1    12.0s  93.1%   12.0s   1.77GiB  93.8%  1.77GiB\n",
      "│      Problem UC             1    11.7s  90.9%   11.7s   1.76GiB  93.1%  1.76GiB\n",
      "│        PowerSystems...      1    2.01s  15.6%   2.01s    126MiB  6.52%   126MiB\n",
      "│        PowerSystems...      1    1.79s  13.9%   1.79s    306MiB  15.8%   306MiB\n",
      "│        PowerSimulat...      1    345ms  2.67%   345ms   50.9MiB  2.63%  50.9MiB\n",
      "│        Build pre-step       1    116ms  0.90%   116ms   6.81MiB  0.35%  6.81MiB\n",
      "│        Services             1   2.23ms  0.02%  2.23ms   52.7KiB  0.00%  52.7KiB\n",
      "│        Objective            1    558μs  0.00%   558μs    971KiB  0.05%   971KiB\n",
      "│        PowerSystems...      1   94.9μs  0.00%  94.9μs   4.27KiB  0.00%  4.27KiB\n",
      "│        PowerSystems...      1   85.6μs  0.00%  85.6μs   4.27KiB  0.00%  4.27KiB\n",
      "│        PowerSystems...      1   47.3μs  0.00%  47.3μs   4.84KiB  0.00%  4.84KiB\n",
      "│        PowerSystems...      1   45.6μs  0.00%  45.6μs   4.27KiB  0.00%  4.27KiB\n",
      "│        PowerSystems...      1   39.4μs  0.00%  39.4μs   4.89KiB  0.00%  4.89KiB\n",
      "│        PowerSystems...      1   3.90μs  0.00%  3.90μs     64.0B  0.00%    64.0B\n",
      "│        PowerSystems...      1   1.75μs  0.00%  1.75μs     64.0B  0.00%    64.0B\n",
      "│        PowerSystems...      1   1.66μs  0.00%  1.66μs     64.0B  0.00%    64.0B\n",
      "│        PowerSystems...      1   1.58μs  0.00%  1.58μs     64.0B  0.00%    64.0B\n",
      "│    Serializing Simu...      1    706ms  5.47%   706ms    107MiB  5.54%   107MiB\n",
      "│    Assign FeedForward       1    159ms  1.23%   159ms   11.9MiB  0.61%  11.9MiB\n",
      "│    Initialize Simul...      1   11.8ms  0.09%  11.8ms    420KiB  0.02%   420KiB\n",
      "│    Check Steps              1   6.94ms  0.05%  6.94ms    149KiB  0.01%   149KiB\n",
      "└  ──────────────────────────────────────────────────────────────────────────────\n"
     ]
    },
    {
     "output_type": "execute_result",
     "data": {
      "text/plain": "PowerSimulations.BuildStatusModule.BuildStatus.BUILT = 0"
     },
     "metadata": {},
     "execution_count": 6
    }
   ],
   "cell_type": "code",
   "source": [
    "sim = Simulation(\n",
    "    name = \"TAMU-test\",\n",
    "    steps = 3,\n",
    "    problems = problems,\n",
    "    sequence = DA_sequence,\n",
    "    simulation_folder = sim_folder,\n",
    ")\n",
    "\n",
    "build!(sim)"
   ],
   "metadata": {},
   "execution_count": 6
  },
  {
   "cell_type": "markdown",
   "source": [
    "### Execute the simulation"
   ],
   "metadata": {}
  },
  {
   "outputs": [
    {
     "output_type": "execute_result",
     "data": {
      "text/plain": "PowerSimulations.RunStatusModule.RunStatus.SUCCESSFUL = 0"
     },
     "metadata": {},
     "execution_count": 7
    }
   ],
   "cell_type": "code",
   "source": [
    "execute!(sim)"
   ],
   "metadata": {},
   "execution_count": 7
  },
  {
   "cell_type": "markdown",
   "source": [
    "### Load and analyze results"
   ],
   "metadata": {}
  },
  {
   "outputs": [
    {
     "name": "stdout",
     "output_type": "stream",
     "text": [
      "[ Info: checking integrity of /Users/pchanpiw/Documents/GitHub/SIIPExamples.jl/TAMU-sim/TAMU-test/1/data_store/simulation_store.h5\n",
      "[ Info: reading variables from data store\n"
     ]
    },
    {
     "output_type": "execute_result",
     "data": {
      "text/plain": "\u001b[1m72×545 DataFrame\u001b[0m\n\u001b[1m Row \u001b[0m│\u001b[1m DateTime            \u001b[0m\u001b[1m generator-1004-1 \u001b[0m\u001b[1m generator-1006-1 \u001b[0m\u001b[1m generator-1009\u001b[0m ⋯\n\u001b[1m     \u001b[0m│\u001b[90m DateTime…           \u001b[0m\u001b[90m Float64          \u001b[0m\u001b[90m Float64          \u001b[0m\u001b[90m Float64       \u001b[0m ⋯\n─────┼──────────────────────────────────────────────────────────────────────────\n   1 │ 2016-01-01T00:00:00               1.0               1.0               1 ⋯\n   2 │ 2016-01-01T01:00:00               1.0               1.0               1\n   3 │ 2016-01-01T02:00:00               1.0               1.0               1\n   4 │ 2016-01-01T03:00:00               1.0               1.0               1\n   5 │ 2016-01-01T04:00:00               1.0               1.0               1 ⋯\n   6 │ 2016-01-01T05:00:00               1.0               1.0               1\n   7 │ 2016-01-01T06:00:00               1.0               1.0               1\n   8 │ 2016-01-01T07:00:00               1.0               1.0               1\n  ⋮  │          ⋮                  ⋮                 ⋮                 ⋮       ⋱\n  66 │ 2016-01-03T17:00:00               1.0               1.0               1 ⋯\n  67 │ 2016-01-03T18:00:00               1.0               1.0               1\n  68 │ 2016-01-03T19:00:00               1.0               1.0               1\n  69 │ 2016-01-03T20:00:00               1.0               1.0               1\n  70 │ 2016-01-03T21:00:00               1.0               1.0               1 ⋯\n  71 │ 2016-01-03T22:00:00               1.0               1.0               1\n  72 │ 2016-01-03T23:00:00               1.0               1.0               1\n\u001b[36m                                                 542 columns and 57 rows omitted\u001b[0m",
      "text/html": [
       "<div class=\"data-frame\"><p>72 rows × 545 columns (omitted printing of 540 columns)</p><table class=\"data-frame\"><thead><tr><th></th><th>DateTime</th><th>generator-1004-1</th><th>generator-1006-1</th><th>generator-1009-1</th><th>generator-1011-1</th></tr><tr><th></th><th title=\"Dates.DateTime\">DateTim…</th><th title=\"Float64\">Float64</th><th title=\"Float64\">Float64</th><th title=\"Float64\">Float64</th><th title=\"Float64\">Float64</th></tr></thead><tbody><tr><th>1</th><td>2016-01-01T00:00:00</td><td>1.0</td><td>1.0</td><td>1.0</td><td>1.0</td></tr><tr><th>2</th><td>2016-01-01T01:00:00</td><td>1.0</td><td>1.0</td><td>1.0</td><td>1.0</td></tr><tr><th>3</th><td>2016-01-01T02:00:00</td><td>1.0</td><td>1.0</td><td>1.0</td><td>1.0</td></tr><tr><th>4</th><td>2016-01-01T03:00:00</td><td>1.0</td><td>1.0</td><td>1.0</td><td>1.0</td></tr><tr><th>5</th><td>2016-01-01T04:00:00</td><td>1.0</td><td>1.0</td><td>1.0</td><td>1.0</td></tr><tr><th>6</th><td>2016-01-01T05:00:00</td><td>1.0</td><td>1.0</td><td>1.0</td><td>1.0</td></tr><tr><th>7</th><td>2016-01-01T06:00:00</td><td>1.0</td><td>1.0</td><td>1.0</td><td>1.0</td></tr><tr><th>8</th><td>2016-01-01T07:00:00</td><td>1.0</td><td>1.0</td><td>1.0</td><td>1.0</td></tr><tr><th>9</th><td>2016-01-01T08:00:00</td><td>1.0</td><td>1.0</td><td>1.0</td><td>1.0</td></tr><tr><th>10</th><td>2016-01-01T09:00:00</td><td>1.0</td><td>1.0</td><td>1.0</td><td>1.0</td></tr><tr><th>11</th><td>2016-01-01T10:00:00</td><td>1.0</td><td>1.0</td><td>1.0</td><td>1.0</td></tr><tr><th>12</th><td>2016-01-01T11:00:00</td><td>1.0</td><td>1.0</td><td>1.0</td><td>1.0</td></tr><tr><th>13</th><td>2016-01-01T12:00:00</td><td>1.0</td><td>1.0</td><td>1.0</td><td>1.0</td></tr><tr><th>14</th><td>2016-01-01T13:00:00</td><td>1.0</td><td>1.0</td><td>1.0</td><td>1.0</td></tr><tr><th>15</th><td>2016-01-01T14:00:00</td><td>1.0</td><td>1.0</td><td>1.0</td><td>1.0</td></tr><tr><th>16</th><td>2016-01-01T15:00:00</td><td>1.0</td><td>1.0</td><td>1.0</td><td>1.0</td></tr><tr><th>17</th><td>2016-01-01T16:00:00</td><td>1.0</td><td>1.0</td><td>1.0</td><td>1.0</td></tr><tr><th>18</th><td>2016-01-01T17:00:00</td><td>1.0</td><td>1.0</td><td>1.0</td><td>1.0</td></tr><tr><th>19</th><td>2016-01-01T18:00:00</td><td>1.0</td><td>1.0</td><td>1.0</td><td>1.0</td></tr><tr><th>20</th><td>2016-01-01T19:00:00</td><td>1.0</td><td>1.0</td><td>1.0</td><td>1.0</td></tr><tr><th>21</th><td>2016-01-01T20:00:00</td><td>1.0</td><td>1.0</td><td>1.0</td><td>1.0</td></tr><tr><th>22</th><td>2016-01-01T21:00:00</td><td>1.0</td><td>1.0</td><td>1.0</td><td>1.0</td></tr><tr><th>23</th><td>2016-01-01T22:00:00</td><td>1.0</td><td>1.0</td><td>1.0</td><td>1.0</td></tr><tr><th>24</th><td>2016-01-01T23:00:00</td><td>1.0</td><td>1.0</td><td>1.0</td><td>1.0</td></tr><tr><th>&vellip;</th><td>&vellip;</td><td>&vellip;</td><td>&vellip;</td><td>&vellip;</td><td>&vellip;</td></tr></tbody></table></div>"
      ]
     },
     "metadata": {},
     "execution_count": 8
    }
   ],
   "cell_type": "code",
   "source": [
    "sim_results = SimulationResults(sim);\n",
    "uc_results = get_problem_results(sim_results, \"UC\")\n",
    "read_realized_variables(uc_results, names = [:On__ThermalStandard])[:On__ThermalStandard]"
   ],
   "metadata": {},
   "execution_count": 8
  },
  {
   "cell_type": "markdown",
   "source": [
    "---\n",
    "\n",
    "*This notebook was generated using [Literate.jl](https://github.com/fredrikekre/Literate.jl).*"
   ],
   "metadata": {}
  }
 ],
 "nbformat_minor": 3,
 "metadata": {
  "language_info": {
   "file_extension": ".jl",
   "mimetype": "application/julia",
   "name": "julia",
   "version": "1.6.2"
  },
  "kernelspec": {
   "name": "julia-1.6",
   "display_name": "Julia 1.6.2",
   "language": "julia"
  }
 },
 "nbformat": 4
}
