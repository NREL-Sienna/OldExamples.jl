{
 "cells": [
  {
   "cell_type": "markdown",
   "source": [
    "# Time-varying bid problems with [PowerSimulations.jl](https://github.com/NREL-SIIP/PowerSimulations.jl)"
   ],
   "metadata": {}
  },
  {
   "cell_type": "markdown",
   "source": [
    "**Originally Contributed by**: Sourabh Dalvi"
   ],
   "metadata": {}
  },
  {
   "cell_type": "markdown",
   "source": [
    "## Introduction"
   ],
   "metadata": {}
  },
  {
   "cell_type": "markdown",
   "source": [
    "PowerSimulations.jl supports the construction of Operations problems in power system\n",
    "with three part cost bids for each time step. MarketBidCost allows the user to pass a\n",
    "time-series of variable cost for energy and ancillary services jointly.\n",
    "This example shows how to build a Operations problem with MarketBidCost and how to add\n",
    "the time-series data to the devices."
   ],
   "metadata": {}
  },
  {
   "cell_type": "markdown",
   "source": [
    "## Dependencies\n",
    "### Modeling Packages"
   ],
   "metadata": {}
  },
  {
   "outputs": [
    {
     "output_type": "execute_result",
     "data": {
      "text/plain": "PowerSimulations"
     },
     "metadata": {},
     "execution_count": 1
    }
   ],
   "cell_type": "code",
   "source": [
    "using SIIPExamples\n",
    "using PowerSystems\n",
    "using PowerSimulations\n",
    "const PSI = PowerSimulations"
   ],
   "metadata": {},
   "execution_count": 1
  },
  {
   "cell_type": "markdown",
   "source": [
    "### Data management packages"
   ],
   "metadata": {}
  },
  {
   "outputs": [],
   "cell_type": "code",
   "source": [
    "using PowerSystemCaseBuilder\n",
    "using Dates\n",
    "using DataFrames\n",
    "using TimeSeries"
   ],
   "metadata": {},
   "execution_count": 2
  },
  {
   "cell_type": "markdown",
   "source": [
    "### Optimization packages"
   ],
   "metadata": {}
  },
  {
   "outputs": [],
   "cell_type": "code",
   "source": [
    "using Cbc #solver"
   ],
   "metadata": {},
   "execution_count": 3
  },
  {
   "cell_type": "markdown",
   "source": [
    "### Data\n",
    "This data depends upon the [RTS-GMLC](https://github.com/gridmod/rts-gmlc) dataset that we\n",
    "assembled in the [tabular data parsing example](https://nbviewer.jupyter.org/github/NREL-SIIP/SIIPExamples.jl/blob/master/notebook/3_PowerSimulations_examples/01_operations_problems.ipynb)."
   ],
   "metadata": {}
  },
  {
   "outputs": [
    {
     "name": "stdout",
     "output_type": "stream",
     "text": [
      "[ Info: Parsing csv files in Reserves ...\n",
      "[ Info: Parsing csv data in DAY_AHEAD_regional_Flex_Down.csv ...\n",
      "[ Info: Parsing csv data in DAY_AHEAD_regional_Flex_Up.csv ...\n",
      "[ Info: Parsing csv data in DAY_AHEAD_regional_Reg_Down.csv ...\n",
      "[ Info: Parsing csv data in DAY_AHEAD_regional_Reg_Up.csv ...\n",
      "[ Info: Parsing csv data in DAY_AHEAD_regional_Spin_Up_R1.csv ...\n",
      "[ Info: Parsing csv data in DAY_AHEAD_regional_Spin_Up_R2.csv ...\n",
      "[ Info: Parsing csv data in DAY_AHEAD_regional_Spin_Up_R3.csv ...\n",
      "[ Info: Parsing csv data in REAL_TIME_regional_Reg_Down.csv ...\n",
      "[ Info: Parsing csv data in REAL_TIME_regional_Reg_Up.csv ...\n",
      "[ Info: Parsing csv data in REAL_TIME_regional_Spin_Up_R1.csv ...\n",
      "[ Info: Parsing csv data in REAL_TIME_regional_Spin_Up_R2.csv ...\n",
      "[ Info: Parsing csv data in REAL_TIME_regional_Spin_Up_R3.csv ...\n",
      "[ Info: Successfully parsed Reserves\n",
      "[ Info: Parsing csv data in branch.csv ...\n",
      "[ Info: Successfully parsed branch.csv\n",
      "[ Info: Parsing csv data in bus.csv ...\n",
      "[ Info: Successfully parsed bus.csv\n",
      "[ Info: Parsing csv data in dc_branch.csv ...\n",
      "[ Info: Successfully parsed dc_branch.csv\n",
      "[ Info: Parsing csv data in gen.csv ...\n",
      "[ Info: Successfully parsed gen.csv\n",
      "[ Info: Parsing csv data in reserves.csv ...\n",
      "[ Info: Successfully parsed reserves.csv\n",
      "[ Info: Parsing csv data in simulation_objects.csv ...\n",
      "[ Info: Successfully parsed simulation_objects.csv\n",
      "[ Info: Parsing csv data in storage.csv ...\n",
      "[ Info: Successfully parsed storage.csv\n",
      "[ Info: Parsing csv data in timeseries_pointers.csv ...\n",
      "[ Info: Successfully parsed timeseries_pointers.csv\n",
      "[ Info: Unit System changed to InfrastructureSystems.UnitSystemModule.UnitSystem.DEVICE_BASE = 1\n",
      "┌ Warning: Missing PowerSystems.InputCategoryModule.InputCategory.LOAD = 5 data.\n",
      "└ @ PowerSystems ~/.julia/packages/PowerSystems/61h6O/src/parsers/power_system_table_data.jl:213\n",
      "┌ Warning: Rate 175.0 MW for A1 is larger than the max expected in the range of (min = 47.0, max = 52.0).\n",
      "└ @ PowerSystems ~/.julia/packages/PowerSystems/61h6O/src/utils/IO/branchdata_checks.jl:148\n",
      "┌ Warning: Rate 175.0 MW for A2 is larger than the max expected in the range of (min = 47.0, max = 52.0).\n",
      "└ @ PowerSystems ~/.julia/packages/PowerSystems/61h6O/src/utils/IO/branchdata_checks.jl:148\n",
      "┌ Warning: Rate 175.0 MW for A3 is larger than the max expected in the range of (min = 47.0, max = 52.0).\n",
      "└ @ PowerSystems ~/.julia/packages/PowerSystems/61h6O/src/utils/IO/branchdata_checks.jl:148\n",
      "┌ Warning: Rate 175.0 MW for A4 is larger than the max expected in the range of (min = 47.0, max = 52.0).\n",
      "└ @ PowerSystems ~/.julia/packages/PowerSystems/61h6O/src/utils/IO/branchdata_checks.jl:148\n",
      "┌ Warning: Rate 175.0 MW for A5 is larger than the max expected in the range of (min = 47.0, max = 52.0).\n",
      "└ @ PowerSystems ~/.julia/packages/PowerSystems/61h6O/src/utils/IO/branchdata_checks.jl:148\n",
      "┌ Warning: Rate 175.0 MW for A6 is larger than the max expected in the range of (min = 47.0, max = 52.0).\n",
      "└ @ PowerSystems ~/.julia/packages/PowerSystems/61h6O/src/utils/IO/branchdata_checks.jl:148\n",
      "┌ Warning: Rate 175.0 MW for A8 is larger than the max expected in the range of (min = 47.0, max = 52.0).\n",
      "└ @ PowerSystems ~/.julia/packages/PowerSystems/61h6O/src/utils/IO/branchdata_checks.jl:148\n",
      "┌ Warning: Rate 175.0 MW for A9 is larger than the max expected in the range of (min = 47.0, max = 52.0).\n",
      "└ @ PowerSystems ~/.julia/packages/PowerSystems/61h6O/src/utils/IO/branchdata_checks.jl:148\n",
      "┌ Warning: Rate 175.0 MW for A10 is larger than the max expected in the range of (min = 47.0, max = 52.0).\n",
      "└ @ PowerSystems ~/.julia/packages/PowerSystems/61h6O/src/utils/IO/branchdata_checks.jl:148\n",
      "┌ Warning: Rate 175.0 MW for A11 is larger than the max expected in the range of (min = 47.0, max = 52.0).\n",
      "└ @ PowerSystems ~/.julia/packages/PowerSystems/61h6O/src/utils/IO/branchdata_checks.jl:148\n",
      "┌ Warning: Rate 175.0 MW for AB1 is larger than the max expected in the range of (min = 47.0, max = 52.0).\n",
      "└ @ PowerSystems ~/.julia/packages/PowerSystems/61h6O/src/utils/IO/branchdata_checks.jl:148\n",
      "┌ Warning: Rate 175.0 MW for A12-1 is larger than the max expected in the range of (min = 47.0, max = 52.0).\n",
      "└ @ PowerSystems ~/.julia/packages/PowerSystems/61h6O/src/utils/IO/branchdata_checks.jl:148\n",
      "┌ Warning: Rate 175.0 MW for A13-2 is larger than the max expected in the range of (min = 47.0, max = 52.0).\n",
      "└ @ PowerSystems ~/.julia/packages/PowerSystems/61h6O/src/utils/IO/branchdata_checks.jl:148\n",
      "┌ Warning: Rate 500.0 MW for A18 is larger than the max expected in the range of (min = 134.0, max = 145.0).\n",
      "└ @ PowerSystems ~/.julia/packages/PowerSystems/61h6O/src/utils/IO/branchdata_checks.jl:148\n",
      "┌ Warning: Rate 500.0 MW for A19 is larger than the max expected in the range of (min = 134.0, max = 145.0).\n",
      "└ @ PowerSystems ~/.julia/packages/PowerSystems/61h6O/src/utils/IO/branchdata_checks.jl:148\n",
      "┌ Warning: Rate 500.0 MW for A20 is larger than the max expected in the range of (min = 134.0, max = 145.0).\n",
      "└ @ PowerSystems ~/.julia/packages/PowerSystems/61h6O/src/utils/IO/branchdata_checks.jl:148\n",
      "┌ Warning: Rate 500.0 MW for A21 is larger than the max expected in the range of (min = 134.0, max = 145.0).\n",
      "└ @ PowerSystems ~/.julia/packages/PowerSystems/61h6O/src/utils/IO/branchdata_checks.jl:148\n",
      "┌ Warning: Rate 500.0 MW for A22 is larger than the max expected in the range of (min = 134.0, max = 145.0).\n",
      "└ @ PowerSystems ~/.julia/packages/PowerSystems/61h6O/src/utils/IO/branchdata_checks.jl:148\n",
      "┌ Warning: Rate 500.0 MW for AB2 is larger than the max expected in the range of (min = 134.0, max = 145.0).\n",
      "└ @ PowerSystems ~/.julia/packages/PowerSystems/61h6O/src/utils/IO/branchdata_checks.jl:148\n",
      "┌ Warning: Rate 500.0 MW for A23 is larger than the max expected in the range of (min = 134.0, max = 145.0).\n",
      "└ @ PowerSystems ~/.julia/packages/PowerSystems/61h6O/src/utils/IO/branchdata_checks.jl:148\n",
      "┌ Warning: Rate 500.0 MW for A24 is larger than the max expected in the range of (min = 134.0, max = 145.0).\n",
      "└ @ PowerSystems ~/.julia/packages/PowerSystems/61h6O/src/utils/IO/branchdata_checks.jl:148\n",
      "┌ Warning: Rate 500.0 MW for A25-1 is larger than the max expected in the range of (min = 134.0, max = 145.0).\n",
      "└ @ PowerSystems ~/.julia/packages/PowerSystems/61h6O/src/utils/IO/branchdata_checks.jl:148\n",
      "┌ Warning: Rate 500.0 MW for A25-2 is larger than the max expected in the range of (min = 134.0, max = 145.0).\n",
      "└ @ PowerSystems ~/.julia/packages/PowerSystems/61h6O/src/utils/IO/branchdata_checks.jl:148\n",
      "┌ Warning: Rate 500.0 MW for A26 is larger than the max expected in the range of (min = 134.0, max = 145.0).\n",
      "└ @ PowerSystems ~/.julia/packages/PowerSystems/61h6O/src/utils/IO/branchdata_checks.jl:148\n",
      "┌ Warning: Rate 500.0 MW for A27 is larger than the max expected in the range of (min = 134.0, max = 145.0).\n",
      "└ @ PowerSystems ~/.julia/packages/PowerSystems/61h6O/src/utils/IO/branchdata_checks.jl:148\n",
      "┌ Warning: Rate 500.0 MW for A28 is larger than the max expected in the range of (min = 134.0, max = 145.0).\n",
      "└ @ PowerSystems ~/.julia/packages/PowerSystems/61h6O/src/utils/IO/branchdata_checks.jl:148\n",
      "┌ Warning: Rate 500.0 MW for A29 is larger than the max expected in the range of (min = 134.0, max = 145.0).\n",
      "└ @ PowerSystems ~/.julia/packages/PowerSystems/61h6O/src/utils/IO/branchdata_checks.jl:148\n",
      "┌ Warning: Rate 500.0 MW for A30 is larger than the max expected in the range of (min = 134.0, max = 145.0).\n",
      "└ @ PowerSystems ~/.julia/packages/PowerSystems/61h6O/src/utils/IO/branchdata_checks.jl:148\n",
      "┌ Warning: Rate 500.0 MW for A31-1 is larger than the max expected in the range of (min = 134.0, max = 145.0).\n",
      "└ @ PowerSystems ~/.julia/packages/PowerSystems/61h6O/src/utils/IO/branchdata_checks.jl:148\n",
      "┌ Warning: Rate 500.0 MW for A31-2 is larger than the max expected in the range of (min = 134.0, max = 145.0).\n",
      "└ @ PowerSystems ~/.julia/packages/PowerSystems/61h6O/src/utils/IO/branchdata_checks.jl:148\n",
      "┌ Warning: Rate 500.0 MW for A32-1 is larger than the max expected in the range of (min = 134.0, max = 145.0).\n",
      "└ @ PowerSystems ~/.julia/packages/PowerSystems/61h6O/src/utils/IO/branchdata_checks.jl:148\n",
      "┌ Warning: Rate 500.0 MW for A32-2 is larger than the max expected in the range of (min = 134.0, max = 145.0).\n",
      "└ @ PowerSystems ~/.julia/packages/PowerSystems/61h6O/src/utils/IO/branchdata_checks.jl:148\n",
      "┌ Warning: Rate 500.0 MW for A33-1 is larger than the max expected in the range of (min = 134.0, max = 145.0).\n",
      "└ @ PowerSystems ~/.julia/packages/PowerSystems/61h6O/src/utils/IO/branchdata_checks.jl:148\n",
      "┌ Warning: Rate 500.0 MW for A33-2 is larger than the max expected in the range of (min = 134.0, max = 145.0).\n",
      "└ @ PowerSystems ~/.julia/packages/PowerSystems/61h6O/src/utils/IO/branchdata_checks.jl:148\n",
      "┌ Warning: Rate 500.0 MW for A34 is larger than the max expected in the range of (min = 134.0, max = 145.0).\n",
      "└ @ PowerSystems ~/.julia/packages/PowerSystems/61h6O/src/utils/IO/branchdata_checks.jl:148\n",
      "┌ Warning: Rate 500.0 MW for AB3 is larger than the max expected in the range of (min = 134.0, max = 145.0).\n",
      "└ @ PowerSystems ~/.julia/packages/PowerSystems/61h6O/src/utils/IO/branchdata_checks.jl:148\n",
      "┌ Warning: Rate 175.0 MW for B1 is larger than the max expected in the range of (min = 47.0, max = 52.0).\n",
      "└ @ PowerSystems ~/.julia/packages/PowerSystems/61h6O/src/utils/IO/branchdata_checks.jl:148\n",
      "┌ Warning: Rate 175.0 MW for B2 is larger than the max expected in the range of (min = 47.0, max = 52.0).\n",
      "└ @ PowerSystems ~/.julia/packages/PowerSystems/61h6O/src/utils/IO/branchdata_checks.jl:148\n",
      "┌ Warning: Rate 175.0 MW for B3 is larger than the max expected in the range of (min = 47.0, max = 52.0).\n",
      "└ @ PowerSystems ~/.julia/packages/PowerSystems/61h6O/src/utils/IO/branchdata_checks.jl:148\n",
      "┌ Warning: Rate 175.0 MW for B4 is larger than the max expected in the range of (min = 47.0, max = 52.0).\n",
      "└ @ PowerSystems ~/.julia/packages/PowerSystems/61h6O/src/utils/IO/branchdata_checks.jl:148\n",
      "┌ Warning: Rate 175.0 MW for B5 is larger than the max expected in the range of (min = 47.0, max = 52.0).\n",
      "└ @ PowerSystems ~/.julia/packages/PowerSystems/61h6O/src/utils/IO/branchdata_checks.jl:148\n",
      "┌ Warning: Rate 175.0 MW for B6 is larger than the max expected in the range of (min = 47.0, max = 52.0).\n",
      "└ @ PowerSystems ~/.julia/packages/PowerSystems/61h6O/src/utils/IO/branchdata_checks.jl:148\n",
      "┌ Warning: Rate 175.0 MW for B8 is larger than the max expected in the range of (min = 47.0, max = 52.0).\n",
      "└ @ PowerSystems ~/.julia/packages/PowerSystems/61h6O/src/utils/IO/branchdata_checks.jl:148\n",
      "┌ Warning: Rate 175.0 MW for B9 is larger than the max expected in the range of (min = 47.0, max = 52.0).\n",
      "└ @ PowerSystems ~/.julia/packages/PowerSystems/61h6O/src/utils/IO/branchdata_checks.jl:148\n",
      "┌ Warning: Rate 175.0 MW for B10 is larger than the max expected in the range of (min = 47.0, max = 52.0).\n",
      "└ @ PowerSystems ~/.julia/packages/PowerSystems/61h6O/src/utils/IO/branchdata_checks.jl:148\n",
      "┌ Warning: Rate 175.0 MW for B11 is larger than the max expected in the range of (min = 47.0, max = 52.0).\n",
      "└ @ PowerSystems ~/.julia/packages/PowerSystems/61h6O/src/utils/IO/branchdata_checks.jl:148\n",
      "┌ Warning: Rate 175.0 MW for B12-1 is larger than the max expected in the range of (min = 47.0, max = 52.0).\n",
      "└ @ PowerSystems ~/.julia/packages/PowerSystems/61h6O/src/utils/IO/branchdata_checks.jl:148\n",
      "┌ Warning: Rate 175.0 MW for B13-2 is larger than the max expected in the range of (min = 47.0, max = 52.0).\n",
      "└ @ PowerSystems ~/.julia/packages/PowerSystems/61h6O/src/utils/IO/branchdata_checks.jl:148\n",
      "┌ Warning: Rate 500.0 MW for B18 is larger than the max expected in the range of (min = 134.0, max = 145.0).\n",
      "└ @ PowerSystems ~/.julia/packages/PowerSystems/61h6O/src/utils/IO/branchdata_checks.jl:148\n",
      "┌ Warning: Rate 500.0 MW for B19 is larger than the max expected in the range of (min = 134.0, max = 145.0).\n",
      "└ @ PowerSystems ~/.julia/packages/PowerSystems/61h6O/src/utils/IO/branchdata_checks.jl:148\n",
      "┌ Warning: User-defined column name Startup Ramp Rate MW/min is not in dataframe.\n",
      "└ @ PowerSystems ~/.julia/packages/PowerSystems/61h6O/src/parsers/power_system_table_data.jl:1367\n",
      "┌ Warning: User-defined column name Shutdown Ramp Rate MW/min is not in dataframe.\n",
      "└ @ PowerSystems ~/.julia/packages/PowerSystems/61h6O/src/parsers/power_system_table_data.jl:1367\n",
      "┌ Warning: User-defined column name Status at Start is not in dataframe.\n",
      "└ @ PowerSystems ~/.julia/packages/PowerSystems/61h6O/src/parsers/power_system_table_data.jl:1367\n",
      "┌ Warning: User-defined column name Time at Status is not in dataframe.\n",
      "└ @ PowerSystems ~/.julia/packages/PowerSystems/61h6O/src/parsers/power_system_table_data.jl:1367\n",
      "┌ Warning: User-defined column name Start Cost Cold is not in dataframe.\n",
      "└ @ PowerSystems ~/.julia/packages/PowerSystems/61h6O/src/parsers/power_system_table_data.jl:1367\n",
      "┌ Warning: User-defined column name Start Cost Warm is not in dataframe.\n",
      "└ @ PowerSystems ~/.julia/packages/PowerSystems/61h6O/src/parsers/power_system_table_data.jl:1367\n",
      "┌ Warning: User-defined column name Start Cost Hot is not in dataframe.\n",
      "└ @ PowerSystems ~/.julia/packages/PowerSystems/61h6O/src/parsers/power_system_table_data.jl:1367\n",
      "┌ Warning: User-defined column name Must Run is not in dataframe.\n",
      "└ @ PowerSystems ~/.julia/packages/PowerSystems/61h6O/src/parsers/power_system_table_data.jl:1367\n",
      "┌ Warning: Missing PowerSystems.InputCategoryModule.InputCategory.LOAD = 5 data.\n",
      "└ @ PowerSystems ~/.julia/packages/PowerSystems/61h6O/src/parsers/power_system_table_data.jl:213\n",
      "[ Info: Adding contributing generators for Spin_Up_R1 by category\n",
      "┌ Warning: User-defined column name Startup Ramp Rate MW/min is not in dataframe.\n",
      "└ @ PowerSystems ~/.julia/packages/PowerSystems/61h6O/src/parsers/power_system_table_data.jl:1367\n",
      "┌ Warning: User-defined column name Shutdown Ramp Rate MW/min is not in dataframe.\n",
      "└ @ PowerSystems ~/.julia/packages/PowerSystems/61h6O/src/parsers/power_system_table_data.jl:1367\n",
      "┌ Warning: User-defined column name Status at Start is not in dataframe.\n",
      "└ @ PowerSystems ~/.julia/packages/PowerSystems/61h6O/src/parsers/power_system_table_data.jl:1367\n",
      "┌ Warning: User-defined column name Time at Status is not in dataframe.\n",
      "└ @ PowerSystems ~/.julia/packages/PowerSystems/61h6O/src/parsers/power_system_table_data.jl:1367\n",
      "┌ Warning: User-defined column name Start Cost Cold is not in dataframe.\n",
      "└ @ PowerSystems ~/.julia/packages/PowerSystems/61h6O/src/parsers/power_system_table_data.jl:1367\n",
      "┌ Warning: User-defined column name Start Cost Warm is not in dataframe.\n",
      "└ @ PowerSystems ~/.julia/packages/PowerSystems/61h6O/src/parsers/power_system_table_data.jl:1367\n",
      "┌ Warning: User-defined column name Start Cost Hot is not in dataframe.\n",
      "└ @ PowerSystems ~/.julia/packages/PowerSystems/61h6O/src/parsers/power_system_table_data.jl:1367\n",
      "┌ Warning: User-defined column name Must Run is not in dataframe.\n",
      "└ @ PowerSystems ~/.julia/packages/PowerSystems/61h6O/src/parsers/power_system_table_data.jl:1367\n",
      "[ Info: Adding contributing generators for Spin_Up_R2 by category\n",
      "┌ Warning: User-defined column name Startup Ramp Rate MW/min is not in dataframe.\n",
      "└ @ PowerSystems ~/.julia/packages/PowerSystems/61h6O/src/parsers/power_system_table_data.jl:1367\n",
      "┌ Warning: User-defined column name Shutdown Ramp Rate MW/min is not in dataframe.\n",
      "└ @ PowerSystems ~/.julia/packages/PowerSystems/61h6O/src/parsers/power_system_table_data.jl:1367\n",
      "┌ Warning: User-defined column name Status at Start is not in dataframe.\n",
      "└ @ PowerSystems ~/.julia/packages/PowerSystems/61h6O/src/parsers/power_system_table_data.jl:1367\n",
      "┌ Warning: User-defined column name Time at Status is not in dataframe.\n",
      "└ @ PowerSystems ~/.julia/packages/PowerSystems/61h6O/src/parsers/power_system_table_data.jl:1367\n",
      "┌ Warning: User-defined column name Start Cost Cold is not in dataframe.\n",
      "└ @ PowerSystems ~/.julia/packages/PowerSystems/61h6O/src/parsers/power_system_table_data.jl:1367\n",
      "┌ Warning: User-defined column name Start Cost Warm is not in dataframe.\n",
      "└ @ PowerSystems ~/.julia/packages/PowerSystems/61h6O/src/parsers/power_system_table_data.jl:1367\n",
      "┌ Warning: User-defined column name Start Cost Hot is not in dataframe.\n",
      "└ @ PowerSystems ~/.julia/packages/PowerSystems/61h6O/src/parsers/power_system_table_data.jl:1367\n",
      "┌ Warning: User-defined column name Must Run is not in dataframe.\n",
      "└ @ PowerSystems ~/.julia/packages/PowerSystems/61h6O/src/parsers/power_system_table_data.jl:1367\n",
      "[ Info: Adding contributing generators for Spin_Up_R3 by category\n",
      "┌ Warning: User-defined column name Startup Ramp Rate MW/min is not in dataframe.\n",
      "└ @ PowerSystems ~/.julia/packages/PowerSystems/61h6O/src/parsers/power_system_table_data.jl:1367\n",
      "┌ Warning: User-defined column name Shutdown Ramp Rate MW/min is not in dataframe.\n",
      "└ @ PowerSystems ~/.julia/packages/PowerSystems/61h6O/src/parsers/power_system_table_data.jl:1367\n",
      "┌ Warning: User-defined column name Status at Start is not in dataframe.\n",
      "└ @ PowerSystems ~/.julia/packages/PowerSystems/61h6O/src/parsers/power_system_table_data.jl:1367\n",
      "┌ Warning: User-defined column name Time at Status is not in dataframe.\n",
      "└ @ PowerSystems ~/.julia/packages/PowerSystems/61h6O/src/parsers/power_system_table_data.jl:1367\n",
      "┌ Warning: User-defined column name Start Cost Cold is not in dataframe.\n",
      "└ @ PowerSystems ~/.julia/packages/PowerSystems/61h6O/src/parsers/power_system_table_data.jl:1367\n",
      "┌ Warning: User-defined column name Start Cost Warm is not in dataframe.\n",
      "└ @ PowerSystems ~/.julia/packages/PowerSystems/61h6O/src/parsers/power_system_table_data.jl:1367\n",
      "┌ Warning: User-defined column name Start Cost Hot is not in dataframe.\n",
      "└ @ PowerSystems ~/.julia/packages/PowerSystems/61h6O/src/parsers/power_system_table_data.jl:1367\n",
      "┌ Warning: User-defined column name Must Run is not in dataframe.\n",
      "└ @ PowerSystems ~/.julia/packages/PowerSystems/61h6O/src/parsers/power_system_table_data.jl:1367\n",
      "[ Info: Adding contributing generators for Flex_Up by category\n",
      "┌ Warning: User-defined column name Startup Ramp Rate MW/min is not in dataframe.\n",
      "└ @ PowerSystems ~/.julia/packages/PowerSystems/61h6O/src/parsers/power_system_table_data.jl:1367\n",
      "┌ Warning: User-defined column name Shutdown Ramp Rate MW/min is not in dataframe.\n",
      "└ @ PowerSystems ~/.julia/packages/PowerSystems/61h6O/src/parsers/power_system_table_data.jl:1367\n",
      "┌ Warning: User-defined column name Status at Start is not in dataframe.\n",
      "└ @ PowerSystems ~/.julia/packages/PowerSystems/61h6O/src/parsers/power_system_table_data.jl:1367\n",
      "┌ Warning: User-defined column name Time at Status is not in dataframe.\n",
      "└ @ PowerSystems ~/.julia/packages/PowerSystems/61h6O/src/parsers/power_system_table_data.jl:1367\n",
      "┌ Warning: User-defined column name Start Cost Cold is not in dataframe.\n",
      "└ @ PowerSystems ~/.julia/packages/PowerSystems/61h6O/src/parsers/power_system_table_data.jl:1367\n",
      "┌ Warning: User-defined column name Start Cost Warm is not in dataframe.\n",
      "└ @ PowerSystems ~/.julia/packages/PowerSystems/61h6O/src/parsers/power_system_table_data.jl:1367\n",
      "┌ Warning: User-defined column name Start Cost Hot is not in dataframe.\n",
      "└ @ PowerSystems ~/.julia/packages/PowerSystems/61h6O/src/parsers/power_system_table_data.jl:1367\n",
      "┌ Warning: User-defined column name Must Run is not in dataframe.\n",
      "└ @ PowerSystems ~/.julia/packages/PowerSystems/61h6O/src/parsers/power_system_table_data.jl:1367\n",
      "[ Info: Adding contributing generators for Flex_Down by category\n",
      "┌ Warning: User-defined column name Startup Ramp Rate MW/min is not in dataframe.\n",
      "└ @ PowerSystems ~/.julia/packages/PowerSystems/61h6O/src/parsers/power_system_table_data.jl:1367\n",
      "┌ Warning: User-defined column name Shutdown Ramp Rate MW/min is not in dataframe.\n",
      "└ @ PowerSystems ~/.julia/packages/PowerSystems/61h6O/src/parsers/power_system_table_data.jl:1367\n",
      "┌ Warning: User-defined column name Status at Start is not in dataframe.\n",
      "└ @ PowerSystems ~/.julia/packages/PowerSystems/61h6O/src/parsers/power_system_table_data.jl:1367\n",
      "┌ Warning: User-defined column name Time at Status is not in dataframe.\n",
      "└ @ PowerSystems ~/.julia/packages/PowerSystems/61h6O/src/parsers/power_system_table_data.jl:1367\n",
      "┌ Warning: User-defined column name Start Cost Cold is not in dataframe.\n",
      "└ @ PowerSystems ~/.julia/packages/PowerSystems/61h6O/src/parsers/power_system_table_data.jl:1367\n",
      "┌ Warning: User-defined column name Start Cost Warm is not in dataframe.\n",
      "└ @ PowerSystems ~/.julia/packages/PowerSystems/61h6O/src/parsers/power_system_table_data.jl:1367\n",
      "┌ Warning: User-defined column name Start Cost Hot is not in dataframe.\n",
      "└ @ PowerSystems ~/.julia/packages/PowerSystems/61h6O/src/parsers/power_system_table_data.jl:1367\n",
      "┌ Warning: User-defined column name Must Run is not in dataframe.\n",
      "└ @ PowerSystems ~/.julia/packages/PowerSystems/61h6O/src/parsers/power_system_table_data.jl:1367\n",
      "[ Info: Adding contributing generators for Reg_Up by category\n",
      "┌ Warning: User-defined column name Startup Ramp Rate MW/min is not in dataframe.\n",
      "└ @ PowerSystems ~/.julia/packages/PowerSystems/61h6O/src/parsers/power_system_table_data.jl:1367\n",
      "┌ Warning: User-defined column name Shutdown Ramp Rate MW/min is not in dataframe.\n",
      "└ @ PowerSystems ~/.julia/packages/PowerSystems/61h6O/src/parsers/power_system_table_data.jl:1367\n",
      "┌ Warning: User-defined column name Status at Start is not in dataframe.\n",
      "└ @ PowerSystems ~/.julia/packages/PowerSystems/61h6O/src/parsers/power_system_table_data.jl:1367\n",
      "┌ Warning: User-defined column name Time at Status is not in dataframe.\n",
      "└ @ PowerSystems ~/.julia/packages/PowerSystems/61h6O/src/parsers/power_system_table_data.jl:1367\n",
      "┌ Warning: User-defined column name Start Cost Cold is not in dataframe.\n",
      "└ @ PowerSystems ~/.julia/packages/PowerSystems/61h6O/src/parsers/power_system_table_data.jl:1367\n",
      "┌ Warning: User-defined column name Start Cost Warm is not in dataframe.\n",
      "└ @ PowerSystems ~/.julia/packages/PowerSystems/61h6O/src/parsers/power_system_table_data.jl:1367\n",
      "┌ Warning: User-defined column name Start Cost Hot is not in dataframe.\n",
      "└ @ PowerSystems ~/.julia/packages/PowerSystems/61h6O/src/parsers/power_system_table_data.jl:1367\n",
      "┌ Warning: User-defined column name Must Run is not in dataframe.\n",
      "└ @ PowerSystems ~/.julia/packages/PowerSystems/61h6O/src/parsers/power_system_table_data.jl:1367\n",
      "[ Info: Adding contributing generators for Reg_Down by category\n",
      "┌ Warning: User-defined column name Startup Ramp Rate MW/min is not in dataframe.\n",
      "└ @ PowerSystems ~/.julia/packages/PowerSystems/61h6O/src/parsers/power_system_table_data.jl:1367\n",
      "┌ Warning: User-defined column name Shutdown Ramp Rate MW/min is not in dataframe.\n",
      "└ @ PowerSystems ~/.julia/packages/PowerSystems/61h6O/src/parsers/power_system_table_data.jl:1367\n",
      "┌ Warning: User-defined column name Status at Start is not in dataframe.\n",
      "└ @ PowerSystems ~/.julia/packages/PowerSystems/61h6O/src/parsers/power_system_table_data.jl:1367\n",
      "┌ Warning: User-defined column name Time at Status is not in dataframe.\n",
      "└ @ PowerSystems ~/.julia/packages/PowerSystems/61h6O/src/parsers/power_system_table_data.jl:1367\n",
      "┌ Warning: User-defined column name Start Cost Cold is not in dataframe.\n",
      "└ @ PowerSystems ~/.julia/packages/PowerSystems/61h6O/src/parsers/power_system_table_data.jl:1367\n",
      "┌ Warning: User-defined column name Start Cost Warm is not in dataframe.\n",
      "└ @ PowerSystems ~/.julia/packages/PowerSystems/61h6O/src/parsers/power_system_table_data.jl:1367\n",
      "┌ Warning: User-defined column name Start Cost Hot is not in dataframe.\n",
      "└ @ PowerSystems ~/.julia/packages/PowerSystems/61h6O/src/parsers/power_system_table_data.jl:1367\n",
      "┌ Warning: User-defined column name Must Run is not in dataframe.\n",
      "└ @ PowerSystems ~/.julia/packages/PowerSystems/61h6O/src/parsers/power_system_table_data.jl:1367\n",
      "┌ Warning: There is only one forecast window. Setting interval = 0 seconds\n",
      "└ @ InfrastructureSystems ~/.julia/packages/InfrastructureSystems/3LlGM/src/component.jl:676\n"
     ]
    },
    {
     "output_type": "execute_result",
     "data": {
      "text/plain": "System\n======\nSystem Units Base: DEVICE_BASE\nBase Power: 100.0\nBase Frequency: 60.0\n\nComponents\n==========\nNum components: 525\n\n\u001b[1m15×3 DataFrame\u001b[0m\n\u001b[1m Row \u001b[0m│\u001b[1m ConcreteType                      \u001b[0m\u001b[1m SuperTypes                        \u001b[0m\n\u001b[1m     \u001b[0m│\u001b[90m String                            \u001b[0m\u001b[90m String                            \u001b[0m\n─────┼──────────────────────────────────────────────────────────────────────────\n   1 │ Arc                                Topology <: Component <: Infrast…\n   2 │ Area                               AggregationTopology <: Topology …\n   3 │ Bus                                Topology <: Component <: Infrast…\n   4 │ GenericBattery                     Storage <: StaticInjection <: De…\n   5 │ HVDCLine                           DCBranch <: Branch <: Device <: …\n   6 │ HydroDispatch                      HydroGen <: Generator <: StaticI…\n   7 │ Line                               ACBranch <: Branch <: Device <: …\n   8 │ LoadZone                           AggregationTopology <: Topology …\n   9 │ PowerLoad                          StaticLoad <: ElectricLoad <: St…\n  10 │ RenewableDispatch                  RenewableGen <: Generator <: Sta…\n  11 │ RenewableFix                       RenewableGen <: Generator <: Sta…\n  12 │ TapTransformer                     ACBranch <: Branch <: Device <: …\n  13 │ ThermalMultiStart                  ThermalGen <: Generator <: Stati…\n  14 │ VariableReserve{PowerSystems.Res…  Reserve{PowerSystems.ReserveDown…\n  15 │ VariableReserve{PowerSystems.Res…  Reserve{PowerSystems.ReserveUp} …\n\u001b[36m                                                               1 column omitted\u001b[0m\n\nTimeSeriesContainer\n===================\nComponents with time series data: 142\nTotal StaticTimeSeries: 182\nTotal Forecasts: 182\nResolution: 60 minutes\nFirst initial time: 2020-01-01T00:00:00\nLast initial time: 2020-01-01T00:00:00\nHorizon: 24\nInterval: 0 minutes\nForecast window count: 1\n",
      "text/html": [
       "<h1>System</h1>\n",
       "<p><b>Base Power</b>: 100.0</p>\n",
       "<h2>Components</h2>\n",
       "<p><b>Num components</b>: 525</p>\n",
       "<div class=\"data-frame\"><p>15 rows × 3 columns</p><table class=\"data-frame\"><thead><tr><th></th><th>ConcreteType</th><th>SuperTypes</th><th>Count</th></tr><tr><th></th><th title=\"String\">String</th><th title=\"String\">String</th><th title=\"Int64\">Int64</th></tr></thead><tbody><tr><th>1</th><td>Arc</td><td>Topology &lt;: Component &lt;: InfrastructureSystemsComponent &lt;: InfrastructureSystemsType &lt;: Any</td><td>109</td></tr><tr><th>2</th><td>Area</td><td>AggregationTopology &lt;: Topology &lt;: Component &lt;: InfrastructureSystemsComponent &lt;: InfrastructureSystemsType &lt;: Any</td><td>3</td></tr><tr><th>3</th><td>Bus</td><td>Topology &lt;: Component &lt;: InfrastructureSystemsComponent &lt;: InfrastructureSystemsType &lt;: Any</td><td>73</td></tr><tr><th>4</th><td>GenericBattery</td><td>Storage &lt;: StaticInjection &lt;: Device &lt;: Component &lt;: InfrastructureSystemsComponent &lt;: InfrastructureSystemsType &lt;: Any</td><td>1</td></tr><tr><th>5</th><td>HVDCLine</td><td>DCBranch &lt;: Branch &lt;: Device &lt;: Component &lt;: InfrastructureSystemsComponent &lt;: InfrastructureSystemsType &lt;: Any</td><td>1</td></tr><tr><th>6</th><td>HydroDispatch</td><td>HydroGen &lt;: Generator &lt;: StaticInjection &lt;: Device &lt;: Component &lt;: InfrastructureSystemsComponent &lt;: InfrastructureSystemsType &lt;: Any</td><td>20</td></tr><tr><th>7</th><td>Line</td><td>ACBranch &lt;: Branch &lt;: Device &lt;: Component &lt;: InfrastructureSystemsComponent &lt;: InfrastructureSystemsType &lt;: Any</td><td>105</td></tr><tr><th>8</th><td>LoadZone</td><td>AggregationTopology &lt;: Topology &lt;: Component &lt;: InfrastructureSystemsComponent &lt;: InfrastructureSystemsType &lt;: Any</td><td>3</td></tr><tr><th>9</th><td>PowerLoad</td><td>StaticLoad &lt;: ElectricLoad &lt;: StaticInjection &lt;: Device &lt;: Component &lt;: InfrastructureSystemsComponent &lt;: InfrastructureSystemsType &lt;: Any</td><td>51</td></tr><tr><th>10</th><td>RenewableDispatch</td><td>RenewableGen &lt;: Generator &lt;: StaticInjection &lt;: Device &lt;: Component &lt;: InfrastructureSystemsComponent &lt;: InfrastructureSystemsType &lt;: Any</td><td>30</td></tr><tr><th>11</th><td>RenewableFix</td><td>RenewableGen &lt;: Generator &lt;: StaticInjection &lt;: Device &lt;: Component &lt;: InfrastructureSystemsComponent &lt;: InfrastructureSystemsType &lt;: Any</td><td>31</td></tr><tr><th>12</th><td>TapTransformer</td><td>ACBranch &lt;: Branch &lt;: Device &lt;: Component &lt;: InfrastructureSystemsComponent &lt;: InfrastructureSystemsType &lt;: Any</td><td>15</td></tr><tr><th>13</th><td>ThermalMultiStart</td><td>ThermalGen &lt;: Generator &lt;: StaticInjection &lt;: Device &lt;: Component &lt;: InfrastructureSystemsComponent &lt;: InfrastructureSystemsType &lt;: Any</td><td>76</td></tr><tr><th>14</th><td>VariableReserve{PowerSystems.ReserveDown}</td><td>Reserve{PowerSystems.ReserveDown} &lt;: Service &lt;: Component &lt;: InfrastructureSystemsComponent &lt;: InfrastructureSystemsType &lt;: Any</td><td>2</td></tr><tr><th>15</th><td>VariableReserve{PowerSystems.ReserveUp}</td><td>Reserve{PowerSystems.ReserveUp} &lt;: Service &lt;: Component &lt;: InfrastructureSystemsComponent &lt;: InfrastructureSystemsType &lt;: Any</td><td>5</td></tr></tbody></table></div>\n",
       "\n",
       "<h2>TimeSeriesContainer</h2>\n",
       "<p><b>Components with time series data</b>: 142</p>\n",
       "<p><b>Total StaticTimeSeries</b>: 182</p>\n",
       "<p><b>Total Forecasts</b>: 182</p>\n",
       "<p><b>Resolution</b>: 60 minutes</p>\n",
       "<p><b>First initial time</b>: 2020-01-01T00:00:00</p>\n",
       "<p><b>Last initial time</b>: 2020-01-01T00:00:00</p>\n",
       "<p><b>Horizon</b>: 24</p>\n",
       "<p><b>Interval</b>: 0 minutes</p>\n",
       "<p><b>Forecast window count</b>: 1</p>\n"
      ]
     },
     "metadata": {},
     "execution_count": 4
    }
   ],
   "cell_type": "code",
   "source": [
    "include(\n",
    "    joinpath(SIIPExamples.TEST_DIR, SIIPExamples.PSY_EX_FOLDER, \"04_parse_tabulardata.jl\"),\n",
    ")"
   ],
   "metadata": {},
   "execution_count": 4
  },
  {
   "cell_type": "markdown",
   "source": [
    "### Creating the Time Series data for Energy bid"
   ],
   "metadata": {}
  },
  {
   "outputs": [],
   "cell_type": "code",
   "source": [
    "MultiDay = collect(\n",
    "    DateTime(\"2020-01-01T00:00:00\"):Hour(1):(DateTime(\"2020-01-01T00:00:00\") + Hour(8783)),\n",
    ");"
   ],
   "metadata": {},
   "execution_count": 5
  },
  {
   "cell_type": "markdown",
   "source": [
    "### Adding a MarketBidCost time series\n",
    "Here we add the energy bid\n",
    "time series to the system. The TimeSeriesData that holds the energy bid data can be of any\n",
    "type (i.e. `SingleTimeSeries` or `Deterministic`), but it has to be consistent with the existing\n",
    "data in the `sys`. So, we'll first remove the existing `DeterministicSingleTimeSeries`, then add\n",
    "the bid time series as `SingleTimeSeries`, then re-transform all of the time series in `sys`."
   ],
   "metadata": {}
  },
  {
   "outputs": [],
   "cell_type": "code",
   "source": [
    "remove_time_series!(sys, DeterministicSingleTimeSeries)\n",
    "\n",
    "for gen in get_components(ThermalGen, sys)\n",
    "    varcost = get_operation_cost(gen)\n",
    "    data = TimeArray(MultiDay, repeat([get_cost(get_variable(varcost))], 8784))\n",
    "    _time_series = SingleTimeSeries(\"variable_cost\", data)\n",
    "    add_time_series!(sys, gen, _time_series)\n",
    "    #set_variable_cost!(sys, gen, _time_series)\n",
    "end"
   ],
   "metadata": {},
   "execution_count": 6
  },
  {
   "cell_type": "markdown",
   "source": [
    "### Transforming SingleTimeSeries into Deterministic"
   ],
   "metadata": {}
  },
  {
   "outputs": [
    {
     "name": "stdout",
     "output_type": "stream",
     "text": [
      "┌ Warning: There is only one forecast window. Setting interval = 0 seconds\n",
      "└ @ InfrastructureSystems ~/.julia/packages/InfrastructureSystems/3LlGM/src/component.jl:676\n"
     ]
    }
   ],
   "cell_type": "code",
   "source": [
    "horizon = 24;\n",
    "interval = Dates.Hour(24);\n",
    "transform_single_time_series!(sys, horizon, interval)"
   ],
   "metadata": {},
   "execution_count": 7
  },
  {
   "cell_type": "markdown",
   "source": [
    "In the [OperationsProblem example](https://nbviewer.jupyter.org/github/NREL-SIIP/SIIPExamples.jl/blob/master/notebook/3_PowerSimulations_examples/01_operations_problems.ipynb)\n",
    "we defined a unit-commitment problem with a copper plate representation of the network.\n",
    "Here, we want do define unit-commitment problem  with ThermalMultiStartUnitCommitment\n",
    "formulation for thermal device representation."
   ],
   "metadata": {}
  },
  {
   "cell_type": "markdown",
   "source": [
    "For now, let's just choose a standard UC formulation."
   ],
   "metadata": {}
  },
  {
   "outputs": [
    {
     "output_type": "execute_result",
     "data": {
      "text/plain": "\nOperations Problem Specification\n============================================\nTransmission: PowerSimulations.CopperPlatePowerModel\n============================================\nDevices Models: \n\n\tType: PowerSystems.ThermalStandard\n \tFormulation: PowerSimulations.ThermalBasicUnitCommitment\n\n\tType: PowerSystems.HydroEnergyReservoir\n \tFormulation: PowerSimulations.HydroDispatchRunOfRiver\n\n\tType: PowerSystems.RenewableDispatch\n \tFormulation: PowerSimulations.RenewableFullDispatch\n\n\tType: PowerSystems.PowerLoad\n \tFormulation: PowerSimulations.StaticPowerLoad\n\n\tType: PowerSystems.InterruptibleLoad\n \tFormulation: PowerSimulations.InterruptiblePowerLoad\n\n\tType: PowerSystems.RenewableFix\n \tFormulation: PowerSimulations.FixedOutput\n\n\tType: PowerSystems.HydroDispatch\n \tFormulation: PowerSimulations.HydroDispatchRunOfRiver\n\n============================================\nBranches Models: \n\n\tType: PowerSystems.Transformer2W\n \tFormulation: PowerSimulations.StaticBranch\n\n\tType: PowerSystems.Line\n \tFormulation: PowerSimulations.StaticBranch\n\n\tType: PowerSystems.HVDCLine\n \tFormulation: PowerSimulations.HVDCDispatch\n\n\tType: PowerSystems.TapTransformer\n \tFormulation: PowerSimulations.StaticBranch\n\n============================================\nServices Models:\n\n\tType: PowerSystems.VariableReserve{PowerSystems.ReserveDown}\n \tFormulation: PowerSimulations.RangeReserve\n\n\tType: PowerSystems.VariableReserve{PowerSystems.ReserveUp}\n \tFormulation: PowerSimulations.RangeReserve\n\n============================================\n"
     },
     "metadata": {},
     "execution_count": 8
    }
   ],
   "cell_type": "code",
   "source": [
    "uc_template = template_unit_commitment(network = CopperPlatePowerModel)"
   ],
   "metadata": {},
   "execution_count": 8
  },
  {
   "cell_type": "markdown",
   "source": [
    "And adjust the thermal generator formulation to use `ThermalMultiStartUnitCommitment`"
   ],
   "metadata": {}
  },
  {
   "outputs": [],
   "cell_type": "code",
   "source": [
    "set_device_model!(uc_template, ThermalMultiStart, ThermalMultiStartUnitCommitment)"
   ],
   "metadata": {},
   "execution_count": 9
  },
  {
   "cell_type": "markdown",
   "source": [
    "Now we can build a 4-hour economic dispatch problem with the RTS data."
   ],
   "metadata": {}
  },
  {
   "outputs": [
    {
     "output_type": "execute_result",
     "data": {
      "text/plain": "PowerSimulations.BuildStatusModule.BuildStatus.BUILT = 0"
     },
     "metadata": {},
     "execution_count": 10
    }
   ],
   "cell_type": "code",
   "source": [
    "solver = optimizer_with_attributes(Cbc.Optimizer, \"logLevel\" => 1, \"ratioGap\" => 0.5)\n",
    "\n",
    "problem = OperationsProblem(\n",
    "    uc_template,\n",
    "    sys,\n",
    "    horizon = 4,\n",
    "    optimizer = solver,\n",
    "    balance_slack_variables = true,\n",
    ")\n",
    "build!(problem, output_dir = mktempdir())"
   ],
   "metadata": {},
   "execution_count": 10
  },
  {
   "cell_type": "markdown",
   "source": [
    "And solve it ..."
   ],
   "metadata": {}
  },
  {
   "outputs": [
    {
     "output_type": "execute_result",
     "data": {
      "text/plain": "PowerSimulations.RunStatusModule.RunStatus.SUCCESSFUL = 0"
     },
     "metadata": {},
     "execution_count": 11
    }
   ],
   "cell_type": "code",
   "source": [
    "solve!(problem)"
   ],
   "metadata": {},
   "execution_count": 11
  },
  {
   "cell_type": "markdown",
   "source": [
    "---\n",
    "\n",
    "*This notebook was generated using [Literate.jl](https://github.com/fredrikekre/Literate.jl).*"
   ],
   "metadata": {}
  }
 ],
 "nbformat_minor": 3,
 "metadata": {
  "language_info": {
   "file_extension": ".jl",
   "mimetype": "application/julia",
   "name": "julia",
   "version": "1.6.0"
  },
  "kernelspec": {
   "name": "julia-1.6",
   "display_name": "Julia 1.6.0",
   "language": "julia"
  }
 },
 "nbformat": 4
}
