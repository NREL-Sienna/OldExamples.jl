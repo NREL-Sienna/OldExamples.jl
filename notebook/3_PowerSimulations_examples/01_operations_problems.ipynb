{
 "cells": [
  {
   "cell_type": "markdown",
   "source": [
    "# Operations problems with [PowerSimulations.jl](https://github.com/NREL-SIIP/PowerSimulations.jl)"
   ],
   "metadata": {}
  },
  {
   "cell_type": "markdown",
   "source": [
    "**Originally Contributed by**: Clayton Barrows"
   ],
   "metadata": {}
  },
  {
   "cell_type": "markdown",
   "source": [
    "## Introduction"
   ],
   "metadata": {}
  },
  {
   "cell_type": "markdown",
   "source": [
    "PowerSimulations.jl supports the construction and solution of optimal power system\n",
    "scheduling problems (Operations Problems). Operations problems form the fundamental\n",
    "building blocks for [sequential simulations](https://nbviewer.jupyter.org/github/NREL-SIIP/SIIPExamples.jl/blob/master/notebook/3_PowerSimulations_examples/02_sequential_simulations.ipynb).\n",
    "This example shows how to specify and customize a the mathematics that will be applied to the data with\n",
    "an `OperationsProblemTemplate`, build and execute an `OperationsProblem`, and access the results."
   ],
   "metadata": {}
  },
  {
   "cell_type": "markdown",
   "source": [
    "## Dependencies"
   ],
   "metadata": {}
  },
  {
   "outputs": [],
   "cell_type": "code",
   "source": [
    "using SIIPExamples"
   ],
   "metadata": {},
   "execution_count": 1
  },
  {
   "cell_type": "markdown",
   "source": [
    "### Modeling Packages"
   ],
   "metadata": {}
  },
  {
   "outputs": [],
   "cell_type": "code",
   "source": [
    "using PowerSystems\n",
    "using PowerSimulations\n",
    "const PSI = PowerSimulations\n",
    "using PowerSystemCaseBuilder"
   ],
   "metadata": {},
   "execution_count": 2
  },
  {
   "cell_type": "markdown",
   "source": [
    "### Data management packages"
   ],
   "metadata": {}
  },
  {
   "outputs": [],
   "cell_type": "code",
   "source": [
    "using Dates\n",
    "using DataFrames"
   ],
   "metadata": {},
   "execution_count": 3
  },
  {
   "cell_type": "markdown",
   "source": [
    "### Optimization packages"
   ],
   "metadata": {}
  },
  {
   "outputs": [],
   "cell_type": "code",
   "source": [
    "using Cbc #solver"
   ],
   "metadata": {},
   "execution_count": 4
  },
  {
   "cell_type": "markdown",
   "source": [
    "### Data\n",
    "This data depends upon the [RTS-GMLC](https://github.com/gridmod/rts-gmlc) dataset. Let's\n",
    "use [PowerSystemCaseBuilder.jl](https://nbviewer.jupyter.org/github/NREL-SIIP/SIIPExamples.jl/blob/master/notebook/3_PowerSimulations_examples/10_PowerSystemCaseBuilder.ipynb) to download and build a `System`."
   ],
   "metadata": {}
  },
  {
   "outputs": [
    {
     "name": "stdout",
     "output_type": "stream",
     "text": [
      "┌ Info: Building new system modified_RTS_GMLC_DA_sys from raw data\n",
      "└   sys_descriptor.raw_data = \"/Users/cbarrows/Documents/repos/SIIPExamples.jl/notebook/3_PowerSimulations_examples/data/RTS-GMLC-master\"\n",
      "[ Info: Parsing csv data in branch.csv ...\n",
      "[ Info: Successfully parsed branch.csv\n",
      "[ Info: Parsing csv data in bus.csv ...\n",
      "[ Info: Successfully parsed bus.csv\n",
      "[ Info: Parsing csv data in dc_branch.csv ...\n",
      "[ Info: Successfully parsed dc_branch.csv\n",
      "[ Info: Parsing csv data in gen.csv ...\n",
      "[ Info: Successfully parsed gen.csv\n",
      "[ Info: Parsing csv data in reserves.csv ...\n",
      "[ Info: Successfully parsed reserves.csv\n",
      "[ Info: Parsing csv data in simulation_objects.csv ...\n",
      "[ Info: Successfully parsed simulation_objects.csv\n",
      "[ Info: Parsing csv data in storage.csv ...\n",
      "[ Info: Successfully parsed storage.csv\n",
      "[ Info: Parsing csv data in timeseries_pointers.csv ...\n",
      "[ Info: Successfully parsed timeseries_pointers.csv\n",
      "[ Info: Unit System changed to InfrastructureSystems.UnitSystemModule.UnitSystem.DEVICE_BASE = 1\n",
      "┌ Warning: Missing PowerSystems.InputCategoryModule.InputCategory.LOAD = 5 data.\n",
      "└ @ PowerSystems ~/.julia/packages/PowerSystems/61h6O/src/parsers/power_system_table_data.jl:213\n",
      "┌ Warning: Rate 175.0 MW for A1 is larger than the max expected in the range of (min = 47.0, max = 52.0).\n",
      "└ @ PowerSystems ~/.julia/packages/PowerSystems/61h6O/src/utils/IO/branchdata_checks.jl:148\n",
      "┌ Warning: Rate 175.0 MW for A2 is larger than the max expected in the range of (min = 47.0, max = 52.0).\n",
      "└ @ PowerSystems ~/.julia/packages/PowerSystems/61h6O/src/utils/IO/branchdata_checks.jl:148\n",
      "┌ Warning: Rate 175.0 MW for A3 is larger than the max expected in the range of (min = 47.0, max = 52.0).\n",
      "└ @ PowerSystems ~/.julia/packages/PowerSystems/61h6O/src/utils/IO/branchdata_checks.jl:148\n",
      "┌ Warning: Rate 175.0 MW for A4 is larger than the max expected in the range of (min = 47.0, max = 52.0).\n",
      "└ @ PowerSystems ~/.julia/packages/PowerSystems/61h6O/src/utils/IO/branchdata_checks.jl:148\n",
      "┌ Warning: Rate 175.0 MW for A5 is larger than the max expected in the range of (min = 47.0, max = 52.0).\n",
      "└ @ PowerSystems ~/.julia/packages/PowerSystems/61h6O/src/utils/IO/branchdata_checks.jl:148\n",
      "┌ Warning: Rate 175.0 MW for A6 is larger than the max expected in the range of (min = 47.0, max = 52.0).\n",
      "└ @ PowerSystems ~/.julia/packages/PowerSystems/61h6O/src/utils/IO/branchdata_checks.jl:148\n",
      "┌ Warning: Rate 175.0 MW for A8 is larger than the max expected in the range of (min = 47.0, max = 52.0).\n",
      "└ @ PowerSystems ~/.julia/packages/PowerSystems/61h6O/src/utils/IO/branchdata_checks.jl:148\n",
      "┌ Warning: Rate 175.0 MW for A9 is larger than the max expected in the range of (min = 47.0, max = 52.0).\n",
      "└ @ PowerSystems ~/.julia/packages/PowerSystems/61h6O/src/utils/IO/branchdata_checks.jl:148\n",
      "┌ Warning: Rate 175.0 MW for A10 is larger than the max expected in the range of (min = 47.0, max = 52.0).\n",
      "└ @ PowerSystems ~/.julia/packages/PowerSystems/61h6O/src/utils/IO/branchdata_checks.jl:148\n",
      "┌ Warning: Rate 175.0 MW for A11 is larger than the max expected in the range of (min = 47.0, max = 52.0).\n",
      "└ @ PowerSystems ~/.julia/packages/PowerSystems/61h6O/src/utils/IO/branchdata_checks.jl:148\n",
      "┌ Warning: Rate 175.0 MW for AB1 is larger than the max expected in the range of (min = 47.0, max = 52.0).\n",
      "└ @ PowerSystems ~/.julia/packages/PowerSystems/61h6O/src/utils/IO/branchdata_checks.jl:148\n",
      "┌ Warning: Rate 175.0 MW for A12-1 is larger than the max expected in the range of (min = 47.0, max = 52.0).\n",
      "└ @ PowerSystems ~/.julia/packages/PowerSystems/61h6O/src/utils/IO/branchdata_checks.jl:148\n",
      "┌ Warning: Rate 175.0 MW for A13-2 is larger than the max expected in the range of (min = 47.0, max = 52.0).\n",
      "└ @ PowerSystems ~/.julia/packages/PowerSystems/61h6O/src/utils/IO/branchdata_checks.jl:148\n",
      "┌ Warning: Rate 500.0 MW for A18 is larger than the max expected in the range of (min = 134.0, max = 145.0).\n",
      "└ @ PowerSystems ~/.julia/packages/PowerSystems/61h6O/src/utils/IO/branchdata_checks.jl:148\n",
      "┌ Warning: Rate 500.0 MW for A19 is larger than the max expected in the range of (min = 134.0, max = 145.0).\n",
      "└ @ PowerSystems ~/.julia/packages/PowerSystems/61h6O/src/utils/IO/branchdata_checks.jl:148\n",
      "┌ Warning: Rate 500.0 MW for A20 is larger than the max expected in the range of (min = 134.0, max = 145.0).\n",
      "└ @ PowerSystems ~/.julia/packages/PowerSystems/61h6O/src/utils/IO/branchdata_checks.jl:148\n",
      "┌ Warning: Rate 500.0 MW for A21 is larger than the max expected in the range of (min = 134.0, max = 145.0).\n",
      "└ @ PowerSystems ~/.julia/packages/PowerSystems/61h6O/src/utils/IO/branchdata_checks.jl:148\n",
      "┌ Warning: Rate 500.0 MW for A22 is larger than the max expected in the range of (min = 134.0, max = 145.0).\n",
      "└ @ PowerSystems ~/.julia/packages/PowerSystems/61h6O/src/utils/IO/branchdata_checks.jl:148\n",
      "┌ Warning: Rate 500.0 MW for AB2 is larger than the max expected in the range of (min = 134.0, max = 145.0).\n",
      "└ @ PowerSystems ~/.julia/packages/PowerSystems/61h6O/src/utils/IO/branchdata_checks.jl:148\n",
      "┌ Warning: Rate 500.0 MW for A23 is larger than the max expected in the range of (min = 134.0, max = 145.0).\n",
      "└ @ PowerSystems ~/.julia/packages/PowerSystems/61h6O/src/utils/IO/branchdata_checks.jl:148\n",
      "┌ Warning: Rate 500.0 MW for A24 is larger than the max expected in the range of (min = 134.0, max = 145.0).\n",
      "└ @ PowerSystems ~/.julia/packages/PowerSystems/61h6O/src/utils/IO/branchdata_checks.jl:148\n",
      "┌ Warning: Rate 500.0 MW for A25-1 is larger than the max expected in the range of (min = 134.0, max = 145.0).\n",
      "└ @ PowerSystems ~/.julia/packages/PowerSystems/61h6O/src/utils/IO/branchdata_checks.jl:148\n",
      "┌ Warning: Rate 500.0 MW for A25-2 is larger than the max expected in the range of (min = 134.0, max = 145.0).\n",
      "└ @ PowerSystems ~/.julia/packages/PowerSystems/61h6O/src/utils/IO/branchdata_checks.jl:148\n",
      "┌ Warning: Rate 500.0 MW for A26 is larger than the max expected in the range of (min = 134.0, max = 145.0).\n",
      "└ @ PowerSystems ~/.julia/packages/PowerSystems/61h6O/src/utils/IO/branchdata_checks.jl:148\n",
      "┌ Warning: Rate 500.0 MW for A27 is larger than the max expected in the range of (min = 134.0, max = 145.0).\n",
      "└ @ PowerSystems ~/.julia/packages/PowerSystems/61h6O/src/utils/IO/branchdata_checks.jl:148\n",
      "┌ Warning: Rate 500.0 MW for A28 is larger than the max expected in the range of (min = 134.0, max = 145.0).\n",
      "└ @ PowerSystems ~/.julia/packages/PowerSystems/61h6O/src/utils/IO/branchdata_checks.jl:148\n",
      "┌ Warning: Rate 500.0 MW for A29 is larger than the max expected in the range of (min = 134.0, max = 145.0).\n",
      "└ @ PowerSystems ~/.julia/packages/PowerSystems/61h6O/src/utils/IO/branchdata_checks.jl:148\n",
      "┌ Warning: Rate 500.0 MW for A30 is larger than the max expected in the range of (min = 134.0, max = 145.0).\n",
      "└ @ PowerSystems ~/.julia/packages/PowerSystems/61h6O/src/utils/IO/branchdata_checks.jl:148\n",
      "┌ Warning: Rate 500.0 MW for A31-1 is larger than the max expected in the range of (min = 134.0, max = 145.0).\n",
      "└ @ PowerSystems ~/.julia/packages/PowerSystems/61h6O/src/utils/IO/branchdata_checks.jl:148\n",
      "┌ Warning: Rate 500.0 MW for A31-2 is larger than the max expected in the range of (min = 134.0, max = 145.0).\n",
      "└ @ PowerSystems ~/.julia/packages/PowerSystems/61h6O/src/utils/IO/branchdata_checks.jl:148\n",
      "┌ Warning: Rate 500.0 MW for A32-1 is larger than the max expected in the range of (min = 134.0, max = 145.0).\n",
      "└ @ PowerSystems ~/.julia/packages/PowerSystems/61h6O/src/utils/IO/branchdata_checks.jl:148\n",
      "┌ Warning: Rate 500.0 MW for A32-2 is larger than the max expected in the range of (min = 134.0, max = 145.0).\n",
      "└ @ PowerSystems ~/.julia/packages/PowerSystems/61h6O/src/utils/IO/branchdata_checks.jl:148\n",
      "┌ Warning: Rate 500.0 MW for A33-1 is larger than the max expected in the range of (min = 134.0, max = 145.0).\n",
      "└ @ PowerSystems ~/.julia/packages/PowerSystems/61h6O/src/utils/IO/branchdata_checks.jl:148\n",
      "┌ Warning: Rate 500.0 MW for A33-2 is larger than the max expected in the range of (min = 134.0, max = 145.0).\n",
      "└ @ PowerSystems ~/.julia/packages/PowerSystems/61h6O/src/utils/IO/branchdata_checks.jl:148\n",
      "┌ Warning: Rate 500.0 MW for A34 is larger than the max expected in the range of (min = 134.0, max = 145.0).\n",
      "└ @ PowerSystems ~/.julia/packages/PowerSystems/61h6O/src/utils/IO/branchdata_checks.jl:148\n",
      "┌ Warning: Rate 500.0 MW for AB3 is larger than the max expected in the range of (min = 134.0, max = 145.0).\n",
      "└ @ PowerSystems ~/.julia/packages/PowerSystems/61h6O/src/utils/IO/branchdata_checks.jl:148\n",
      "┌ Warning: Rate 175.0 MW for B1 is larger than the max expected in the range of (min = 47.0, max = 52.0).\n",
      "└ @ PowerSystems ~/.julia/packages/PowerSystems/61h6O/src/utils/IO/branchdata_checks.jl:148\n",
      "┌ Warning: Rate 175.0 MW for B2 is larger than the max expected in the range of (min = 47.0, max = 52.0).\n",
      "└ @ PowerSystems ~/.julia/packages/PowerSystems/61h6O/src/utils/IO/branchdata_checks.jl:148\n",
      "┌ Warning: Rate 175.0 MW for B3 is larger than the max expected in the range of (min = 47.0, max = 52.0).\n",
      "└ @ PowerSystems ~/.julia/packages/PowerSystems/61h6O/src/utils/IO/branchdata_checks.jl:148\n",
      "┌ Warning: Rate 175.0 MW for B4 is larger than the max expected in the range of (min = 47.0, max = 52.0).\n",
      "└ @ PowerSystems ~/.julia/packages/PowerSystems/61h6O/src/utils/IO/branchdata_checks.jl:148\n",
      "┌ Warning: Rate 175.0 MW for B5 is larger than the max expected in the range of (min = 47.0, max = 52.0).\n",
      "└ @ PowerSystems ~/.julia/packages/PowerSystems/61h6O/src/utils/IO/branchdata_checks.jl:148\n",
      "┌ Warning: Rate 175.0 MW for B6 is larger than the max expected in the range of (min = 47.0, max = 52.0).\n",
      "└ @ PowerSystems ~/.julia/packages/PowerSystems/61h6O/src/utils/IO/branchdata_checks.jl:148\n",
      "┌ Warning: Rate 175.0 MW for B8 is larger than the max expected in the range of (min = 47.0, max = 52.0).\n",
      "└ @ PowerSystems ~/.julia/packages/PowerSystems/61h6O/src/utils/IO/branchdata_checks.jl:148\n",
      "┌ Warning: Rate 175.0 MW for B9 is larger than the max expected in the range of (min = 47.0, max = 52.0).\n",
      "└ @ PowerSystems ~/.julia/packages/PowerSystems/61h6O/src/utils/IO/branchdata_checks.jl:148\n",
      "┌ Warning: Rate 175.0 MW for B10 is larger than the max expected in the range of (min = 47.0, max = 52.0).\n",
      "└ @ PowerSystems ~/.julia/packages/PowerSystems/61h6O/src/utils/IO/branchdata_checks.jl:148\n",
      "┌ Warning: Rate 175.0 MW for B11 is larger than the max expected in the range of (min = 47.0, max = 52.0).\n",
      "└ @ PowerSystems ~/.julia/packages/PowerSystems/61h6O/src/utils/IO/branchdata_checks.jl:148\n",
      "┌ Warning: Rate 175.0 MW for B12-1 is larger than the max expected in the range of (min = 47.0, max = 52.0).\n",
      "└ @ PowerSystems ~/.julia/packages/PowerSystems/61h6O/src/utils/IO/branchdata_checks.jl:148\n",
      "┌ Warning: Rate 175.0 MW for B13-2 is larger than the max expected in the range of (min = 47.0, max = 52.0).\n",
      "└ @ PowerSystems ~/.julia/packages/PowerSystems/61h6O/src/utils/IO/branchdata_checks.jl:148\n",
      "┌ Warning: Rate 500.0 MW for B18 is larger than the max expected in the range of (min = 134.0, max = 145.0).\n",
      "└ @ PowerSystems ~/.julia/packages/PowerSystems/61h6O/src/utils/IO/branchdata_checks.jl:148\n",
      "┌ Warning: Rate 500.0 MW for B19 is larger than the max expected in the range of (min = 134.0, max = 145.0).\n",
      "└ @ PowerSystems ~/.julia/packages/PowerSystems/61h6O/src/utils/IO/branchdata_checks.jl:148\n",
      "┌ Warning: User-defined column name Startup Ramp Rate MW/min is not in dataframe.\n",
      "└ @ PowerSystems ~/.julia/packages/PowerSystems/61h6O/src/parsers/power_system_table_data.jl:1367\n",
      "┌ Warning: User-defined column name Shutdown Ramp Rate MW/min is not in dataframe.\n",
      "└ @ PowerSystems ~/.julia/packages/PowerSystems/61h6O/src/parsers/power_system_table_data.jl:1367\n",
      "┌ Warning: User-defined column name Status at Start is not in dataframe.\n",
      "└ @ PowerSystems ~/.julia/packages/PowerSystems/61h6O/src/parsers/power_system_table_data.jl:1367\n",
      "┌ Warning: User-defined column name Time at Status is not in dataframe.\n",
      "└ @ PowerSystems ~/.julia/packages/PowerSystems/61h6O/src/parsers/power_system_table_data.jl:1367\n",
      "┌ Warning: User-defined column name Start Cost Cold is not in dataframe.\n",
      "└ @ PowerSystems ~/.julia/packages/PowerSystems/61h6O/src/parsers/power_system_table_data.jl:1367\n",
      "┌ Warning: User-defined column name Start Cost Warm is not in dataframe.\n",
      "└ @ PowerSystems ~/.julia/packages/PowerSystems/61h6O/src/parsers/power_system_table_data.jl:1367\n",
      "┌ Warning: User-defined column name Start Cost Hot is not in dataframe.\n",
      "└ @ PowerSystems ~/.julia/packages/PowerSystems/61h6O/src/parsers/power_system_table_data.jl:1367\n",
      "┌ Warning: User-defined column name Must Run is not in dataframe.\n",
      "└ @ PowerSystems ~/.julia/packages/PowerSystems/61h6O/src/parsers/power_system_table_data.jl:1367\n",
      "┌ Warning: storage generator should have exactly 1 head storage defined: this will throw an error in v1.3.x\n",
      "└ @ PowerSystems ~/.julia/packages/PowerSystems/61h6O/src/parsers/power_system_table_data.jl:1194\n",
      "┌ Warning: Missing PowerSystems.InputCategoryModule.InputCategory.LOAD = 5 data.\n",
      "└ @ PowerSystems ~/.julia/packages/PowerSystems/61h6O/src/parsers/power_system_table_data.jl:213\n",
      "[ Info: Adding contributing generators for Spin_Up_R1 by category\n",
      "┌ Warning: User-defined column name Startup Ramp Rate MW/min is not in dataframe.\n",
      "└ @ PowerSystems ~/.julia/packages/PowerSystems/61h6O/src/parsers/power_system_table_data.jl:1367\n",
      "┌ Warning: User-defined column name Shutdown Ramp Rate MW/min is not in dataframe.\n",
      "└ @ PowerSystems ~/.julia/packages/PowerSystems/61h6O/src/parsers/power_system_table_data.jl:1367\n",
      "┌ Warning: User-defined column name Status at Start is not in dataframe.\n",
      "└ @ PowerSystems ~/.julia/packages/PowerSystems/61h6O/src/parsers/power_system_table_data.jl:1367\n",
      "┌ Warning: User-defined column name Time at Status is not in dataframe.\n",
      "└ @ PowerSystems ~/.julia/packages/PowerSystems/61h6O/src/parsers/power_system_table_data.jl:1367\n",
      "┌ Warning: User-defined column name Start Cost Cold is not in dataframe.\n",
      "└ @ PowerSystems ~/.julia/packages/PowerSystems/61h6O/src/parsers/power_system_table_data.jl:1367\n",
      "┌ Warning: User-defined column name Start Cost Warm is not in dataframe.\n",
      "└ @ PowerSystems ~/.julia/packages/PowerSystems/61h6O/src/parsers/power_system_table_data.jl:1367\n",
      "┌ Warning: User-defined column name Start Cost Hot is not in dataframe.\n",
      "└ @ PowerSystems ~/.julia/packages/PowerSystems/61h6O/src/parsers/power_system_table_data.jl:1367\n",
      "┌ Warning: User-defined column name Must Run is not in dataframe.\n",
      "└ @ PowerSystems ~/.julia/packages/PowerSystems/61h6O/src/parsers/power_system_table_data.jl:1367\n",
      "[ Info: Adding contributing generators for Spin_Up_R2 by category\n",
      "┌ Warning: User-defined column name Startup Ramp Rate MW/min is not in dataframe.\n",
      "└ @ PowerSystems ~/.julia/packages/PowerSystems/61h6O/src/parsers/power_system_table_data.jl:1367\n",
      "┌ Warning: User-defined column name Shutdown Ramp Rate MW/min is not in dataframe.\n",
      "└ @ PowerSystems ~/.julia/packages/PowerSystems/61h6O/src/parsers/power_system_table_data.jl:1367\n",
      "┌ Warning: User-defined column name Status at Start is not in dataframe.\n",
      "└ @ PowerSystems ~/.julia/packages/PowerSystems/61h6O/src/parsers/power_system_table_data.jl:1367\n",
      "┌ Warning: User-defined column name Time at Status is not in dataframe.\n",
      "└ @ PowerSystems ~/.julia/packages/PowerSystems/61h6O/src/parsers/power_system_table_data.jl:1367\n",
      "┌ Warning: User-defined column name Start Cost Cold is not in dataframe.\n",
      "└ @ PowerSystems ~/.julia/packages/PowerSystems/61h6O/src/parsers/power_system_table_data.jl:1367\n",
      "┌ Warning: User-defined column name Start Cost Warm is not in dataframe.\n",
      "└ @ PowerSystems ~/.julia/packages/PowerSystems/61h6O/src/parsers/power_system_table_data.jl:1367\n",
      "┌ Warning: User-defined column name Start Cost Hot is not in dataframe.\n",
      "└ @ PowerSystems ~/.julia/packages/PowerSystems/61h6O/src/parsers/power_system_table_data.jl:1367\n",
      "┌ Warning: User-defined column name Must Run is not in dataframe.\n",
      "└ @ PowerSystems ~/.julia/packages/PowerSystems/61h6O/src/parsers/power_system_table_data.jl:1367\n",
      "[ Info: Adding contributing generators for Spin_Up_R3 by category\n",
      "┌ Warning: User-defined column name Startup Ramp Rate MW/min is not in dataframe.\n",
      "└ @ PowerSystems ~/.julia/packages/PowerSystems/61h6O/src/parsers/power_system_table_data.jl:1367\n",
      "┌ Warning: User-defined column name Shutdown Ramp Rate MW/min is not in dataframe.\n",
      "└ @ PowerSystems ~/.julia/packages/PowerSystems/61h6O/src/parsers/power_system_table_data.jl:1367\n",
      "┌ Warning: User-defined column name Status at Start is not in dataframe.\n",
      "└ @ PowerSystems ~/.julia/packages/PowerSystems/61h6O/src/parsers/power_system_table_data.jl:1367\n",
      "┌ Warning: User-defined column name Time at Status is not in dataframe.\n",
      "└ @ PowerSystems ~/.julia/packages/PowerSystems/61h6O/src/parsers/power_system_table_data.jl:1367\n",
      "┌ Warning: User-defined column name Start Cost Cold is not in dataframe.\n",
      "└ @ PowerSystems ~/.julia/packages/PowerSystems/61h6O/src/parsers/power_system_table_data.jl:1367\n",
      "┌ Warning: User-defined column name Start Cost Warm is not in dataframe.\n",
      "└ @ PowerSystems ~/.julia/packages/PowerSystems/61h6O/src/parsers/power_system_table_data.jl:1367\n",
      "┌ Warning: User-defined column name Start Cost Hot is not in dataframe.\n",
      "└ @ PowerSystems ~/.julia/packages/PowerSystems/61h6O/src/parsers/power_system_table_data.jl:1367\n",
      "┌ Warning: User-defined column name Must Run is not in dataframe.\n",
      "└ @ PowerSystems ~/.julia/packages/PowerSystems/61h6O/src/parsers/power_system_table_data.jl:1367\n",
      "[ Info: Adding contributing generators for Flex_Up by category\n",
      "┌ Warning: User-defined column name Startup Ramp Rate MW/min is not in dataframe.\n",
      "└ @ PowerSystems ~/.julia/packages/PowerSystems/61h6O/src/parsers/power_system_table_data.jl:1367\n",
      "┌ Warning: User-defined column name Shutdown Ramp Rate MW/min is not in dataframe.\n",
      "└ @ PowerSystems ~/.julia/packages/PowerSystems/61h6O/src/parsers/power_system_table_data.jl:1367\n",
      "┌ Warning: User-defined column name Status at Start is not in dataframe.\n",
      "└ @ PowerSystems ~/.julia/packages/PowerSystems/61h6O/src/parsers/power_system_table_data.jl:1367\n",
      "┌ Warning: User-defined column name Time at Status is not in dataframe.\n",
      "└ @ PowerSystems ~/.julia/packages/PowerSystems/61h6O/src/parsers/power_system_table_data.jl:1367\n",
      "┌ Warning: User-defined column name Start Cost Cold is not in dataframe.\n",
      "└ @ PowerSystems ~/.julia/packages/PowerSystems/61h6O/src/parsers/power_system_table_data.jl:1367\n",
      "┌ Warning: User-defined column name Start Cost Warm is not in dataframe.\n",
      "└ @ PowerSystems ~/.julia/packages/PowerSystems/61h6O/src/parsers/power_system_table_data.jl:1367\n",
      "┌ Warning: User-defined column name Start Cost Hot is not in dataframe.\n",
      "└ @ PowerSystems ~/.julia/packages/PowerSystems/61h6O/src/parsers/power_system_table_data.jl:1367\n",
      "┌ Warning: User-defined column name Must Run is not in dataframe.\n",
      "└ @ PowerSystems ~/.julia/packages/PowerSystems/61h6O/src/parsers/power_system_table_data.jl:1367\n",
      "[ Info: Adding contributing generators for Flex_Down by category\n",
      "┌ Warning: User-defined column name Startup Ramp Rate MW/min is not in dataframe.\n",
      "└ @ PowerSystems ~/.julia/packages/PowerSystems/61h6O/src/parsers/power_system_table_data.jl:1367\n",
      "┌ Warning: User-defined column name Shutdown Ramp Rate MW/min is not in dataframe.\n",
      "└ @ PowerSystems ~/.julia/packages/PowerSystems/61h6O/src/parsers/power_system_table_data.jl:1367\n",
      "┌ Warning: User-defined column name Status at Start is not in dataframe.\n",
      "└ @ PowerSystems ~/.julia/packages/PowerSystems/61h6O/src/parsers/power_system_table_data.jl:1367\n",
      "┌ Warning: User-defined column name Time at Status is not in dataframe.\n",
      "└ @ PowerSystems ~/.julia/packages/PowerSystems/61h6O/src/parsers/power_system_table_data.jl:1367\n",
      "┌ Warning: User-defined column name Start Cost Cold is not in dataframe.\n",
      "└ @ PowerSystems ~/.julia/packages/PowerSystems/61h6O/src/parsers/power_system_table_data.jl:1367\n",
      "┌ Warning: User-defined column name Start Cost Warm is not in dataframe.\n",
      "└ @ PowerSystems ~/.julia/packages/PowerSystems/61h6O/src/parsers/power_system_table_data.jl:1367\n",
      "┌ Warning: User-defined column name Start Cost Hot is not in dataframe.\n",
      "└ @ PowerSystems ~/.julia/packages/PowerSystems/61h6O/src/parsers/power_system_table_data.jl:1367\n",
      "┌ Warning: User-defined column name Must Run is not in dataframe.\n",
      "└ @ PowerSystems ~/.julia/packages/PowerSystems/61h6O/src/parsers/power_system_table_data.jl:1367\n",
      "[ Info: Adding contributing generators for Reg_Up by category\n",
      "┌ Warning: User-defined column name Startup Ramp Rate MW/min is not in dataframe.\n",
      "└ @ PowerSystems ~/.julia/packages/PowerSystems/61h6O/src/parsers/power_system_table_data.jl:1367\n",
      "┌ Warning: User-defined column name Shutdown Ramp Rate MW/min is not in dataframe.\n",
      "└ @ PowerSystems ~/.julia/packages/PowerSystems/61h6O/src/parsers/power_system_table_data.jl:1367\n",
      "┌ Warning: User-defined column name Status at Start is not in dataframe.\n",
      "└ @ PowerSystems ~/.julia/packages/PowerSystems/61h6O/src/parsers/power_system_table_data.jl:1367\n",
      "┌ Warning: User-defined column name Time at Status is not in dataframe.\n",
      "└ @ PowerSystems ~/.julia/packages/PowerSystems/61h6O/src/parsers/power_system_table_data.jl:1367\n",
      "┌ Warning: User-defined column name Start Cost Cold is not in dataframe.\n",
      "└ @ PowerSystems ~/.julia/packages/PowerSystems/61h6O/src/parsers/power_system_table_data.jl:1367\n",
      "┌ Warning: User-defined column name Start Cost Warm is not in dataframe.\n",
      "└ @ PowerSystems ~/.julia/packages/PowerSystems/61h6O/src/parsers/power_system_table_data.jl:1367\n",
      "┌ Warning: User-defined column name Start Cost Hot is not in dataframe.\n",
      "└ @ PowerSystems ~/.julia/packages/PowerSystems/61h6O/src/parsers/power_system_table_data.jl:1367\n",
      "┌ Warning: User-defined column name Must Run is not in dataframe.\n",
      "└ @ PowerSystems ~/.julia/packages/PowerSystems/61h6O/src/parsers/power_system_table_data.jl:1367\n",
      "[ Info: Adding contributing generators for Reg_Down by category\n",
      "┌ Warning: User-defined column name Startup Ramp Rate MW/min is not in dataframe.\n",
      "└ @ PowerSystems ~/.julia/packages/PowerSystems/61h6O/src/parsers/power_system_table_data.jl:1367\n",
      "┌ Warning: User-defined column name Shutdown Ramp Rate MW/min is not in dataframe.\n",
      "└ @ PowerSystems ~/.julia/packages/PowerSystems/61h6O/src/parsers/power_system_table_data.jl:1367\n",
      "┌ Warning: User-defined column name Status at Start is not in dataframe.\n",
      "└ @ PowerSystems ~/.julia/packages/PowerSystems/61h6O/src/parsers/power_system_table_data.jl:1367\n",
      "┌ Warning: User-defined column name Time at Status is not in dataframe.\n",
      "└ @ PowerSystems ~/.julia/packages/PowerSystems/61h6O/src/parsers/power_system_table_data.jl:1367\n",
      "┌ Warning: User-defined column name Start Cost Cold is not in dataframe.\n",
      "└ @ PowerSystems ~/.julia/packages/PowerSystems/61h6O/src/parsers/power_system_table_data.jl:1367\n",
      "┌ Warning: User-defined column name Start Cost Warm is not in dataframe.\n",
      "└ @ PowerSystems ~/.julia/packages/PowerSystems/61h6O/src/parsers/power_system_table_data.jl:1367\n",
      "┌ Warning: User-defined column name Start Cost Hot is not in dataframe.\n",
      "└ @ PowerSystems ~/.julia/packages/PowerSystems/61h6O/src/parsers/power_system_table_data.jl:1367\n",
      "┌ Warning: User-defined column name Must Run is not in dataframe.\n",
      "└ @ PowerSystems ~/.julia/packages/PowerSystems/61h6O/src/parsers/power_system_table_data.jl:1367\n",
      "[ Info: Unit System changed to InfrastructureSystems.UnitSystemModule.UnitSystem.SYSTEM_BASE = 0\n",
      "[ Info: Serialized time series data to /Users/cbarrows/.julia/packages/PowerSystemCaseBuilder/LRCSW/data/serialized_system/ForecastOnly/modified_RTS_GMLC_DA_sys_time_series_storage.h5.\n",
      "[ Info: Serialized System to /Users/cbarrows/.julia/packages/PowerSystemCaseBuilder/LRCSW/data/serialized_system/ForecastOnly/modified_RTS_GMLC_DA_sys.json\n"
     ]
    },
    {
     "output_type": "execute_result",
     "data": {
      "text/plain": "System\n======\nSystem Units Base: SYSTEM_BASE\nBase Power: 100.0\nBase Frequency: 60.0\n\nComponents\n==========\nNum components: 497\n\n\u001b[1m13×3 DataFrame\u001b[0m\n\u001b[1m Row \u001b[0m│\u001b[1m ConcreteType                      \u001b[0m\u001b[1m SuperTypes                        \u001b[0m\n\u001b[1m     \u001b[0m│\u001b[90m String                            \u001b[0m\u001b[90m String                            \u001b[0m\n─────┼──────────────────────────────────────────────────────────────────────────\n   1 │ Arc                                Topology <: Component <: Infrast…\n   2 │ Area                               AggregationTopology <: Topology …\n   3 │ Bus                                Topology <: Component <: Infrast…\n   4 │ HydroDispatch                      HydroGen <: Generator <: StaticI…\n   5 │ Line                               ACBranch <: Branch <: Device <: …\n   6 │ LoadZone                           AggregationTopology <: Topology …\n   7 │ PowerLoad                          StaticLoad <: ElectricLoad <: St…\n   8 │ RenewableDispatch                  RenewableGen <: Generator <: Sta…\n   9 │ RenewableFix                       RenewableGen <: Generator <: Sta…\n  10 │ TapTransformer                     ACBranch <: Branch <: Device <: …\n  11 │ ThermalStandard                    ThermalGen <: Generator <: Stati…\n  12 │ VariableReserve{PowerSystems.Res…  Reserve{PowerSystems.ReserveDown…\n  13 │ VariableReserve{PowerSystems.Res…  Reserve{PowerSystems.ReserveUp} …\n\u001b[36m                                                               1 column omitted\u001b[0m\n\nTimeSeriesContainer\n===================\nComponents with time series data: 120\nTotal StaticTimeSeries: 122\nTotal Forecasts: 122\nResolution: 60 minutes\nFirst initial time: 2020-01-01T00:00:00\nLast initial time: 2020-12-30T00:00:00\nHorizon: 48\nInterval: 1440 minutes\nForecast window count: 365\n",
      "text/html": [
       "<h1>System</h1>\n",
       "<p><b>Base Power</b>: 100.0</p>\n",
       "<h2>Components</h2>\n",
       "<p><b>Num components</b>: 497</p>\n",
       "<div class=\"data-frame\"><p>13 rows × 3 columns</p><table class=\"data-frame\"><thead><tr><th></th><th>ConcreteType</th><th>SuperTypes</th><th>Count</th></tr><tr><th></th><th title=\"String\">String</th><th title=\"String\">String</th><th title=\"Int64\">Int64</th></tr></thead><tbody><tr><th>1</th><td>Arc</td><td>Topology &lt;: Component &lt;: InfrastructureSystemsComponent &lt;: InfrastructureSystemsType &lt;: Any</td><td>109</td></tr><tr><th>2</th><td>Area</td><td>AggregationTopology &lt;: Topology &lt;: Component &lt;: InfrastructureSystemsComponent &lt;: InfrastructureSystemsType &lt;: Any</td><td>3</td></tr><tr><th>3</th><td>Bus</td><td>Topology &lt;: Component &lt;: InfrastructureSystemsComponent &lt;: InfrastructureSystemsType &lt;: Any</td><td>73</td></tr><tr><th>4</th><td>HydroDispatch</td><td>HydroGen &lt;: Generator &lt;: StaticInjection &lt;: Device &lt;: Component &lt;: InfrastructureSystemsComponent &lt;: InfrastructureSystemsType &lt;: Any</td><td>1</td></tr><tr><th>5</th><td>Line</td><td>ACBranch &lt;: Branch &lt;: Device &lt;: Component &lt;: InfrastructureSystemsComponent &lt;: InfrastructureSystemsType &lt;: Any</td><td>105</td></tr><tr><th>6</th><td>LoadZone</td><td>AggregationTopology &lt;: Topology &lt;: Component &lt;: InfrastructureSystemsComponent &lt;: InfrastructureSystemsType &lt;: Any</td><td>21</td></tr><tr><th>7</th><td>PowerLoad</td><td>StaticLoad &lt;: ElectricLoad &lt;: StaticInjection &lt;: Device &lt;: Component &lt;: InfrastructureSystemsComponent &lt;: InfrastructureSystemsType &lt;: Any</td><td>51</td></tr><tr><th>8</th><td>RenewableDispatch</td><td>RenewableGen &lt;: Generator &lt;: StaticInjection &lt;: Device &lt;: Component &lt;: InfrastructureSystemsComponent &lt;: InfrastructureSystemsType &lt;: Any</td><td>29</td></tr><tr><th>9</th><td>RenewableFix</td><td>RenewableGen &lt;: Generator &lt;: StaticInjection &lt;: Device &lt;: Component &lt;: InfrastructureSystemsComponent &lt;: InfrastructureSystemsType &lt;: Any</td><td>31</td></tr><tr><th>10</th><td>TapTransformer</td><td>ACBranch &lt;: Branch &lt;: Device &lt;: Component &lt;: InfrastructureSystemsComponent &lt;: InfrastructureSystemsType &lt;: Any</td><td>15</td></tr><tr><th>11</th><td>ThermalStandard</td><td>ThermalGen &lt;: Generator &lt;: StaticInjection &lt;: Device &lt;: Component &lt;: InfrastructureSystemsComponent &lt;: InfrastructureSystemsType &lt;: Any</td><td>54</td></tr><tr><th>12</th><td>VariableReserve{PowerSystems.ReserveDown}</td><td>Reserve{PowerSystems.ReserveDown} &lt;: Service &lt;: Component &lt;: InfrastructureSystemsComponent &lt;: InfrastructureSystemsType &lt;: Any</td><td>1</td></tr><tr><th>13</th><td>VariableReserve{PowerSystems.ReserveUp}</td><td>Reserve{PowerSystems.ReserveUp} &lt;: Service &lt;: Component &lt;: InfrastructureSystemsComponent &lt;: InfrastructureSystemsType &lt;: Any</td><td>4</td></tr></tbody></table></div>\n",
       "\n",
       "<h2>TimeSeriesContainer</h2>\n",
       "<p><b>Components with time series data</b>: 120</p>\n",
       "<p><b>Total StaticTimeSeries</b>: 122</p>\n",
       "<p><b>Total Forecasts</b>: 122</p>\n",
       "<p><b>Resolution</b>: 60 minutes</p>\n",
       "<p><b>First initial time</b>: 2020-01-01T00:00:00</p>\n",
       "<p><b>Last initial time</b>: 2020-12-30T00:00:00</p>\n",
       "<p><b>Horizon</b>: 48</p>\n",
       "<p><b>Interval</b>: 1440 minutes</p>\n",
       "<p><b>Forecast window count</b>: 365</p>\n"
      ]
     },
     "metadata": {},
     "execution_count": 5
    }
   ],
   "cell_type": "code",
   "source": [
    "sys = build_system(PSITestSystems, \"modified_RTS_GMLC_DA_sys\")"
   ],
   "metadata": {},
   "execution_count": 5
  },
  {
   "cell_type": "markdown",
   "source": [
    "## Define a problem specification with an `OperationsProblemTemplate`\n",
    "You can create an empty template with:"
   ],
   "metadata": {}
  },
  {
   "outputs": [
    {
     "output_type": "execute_result",
     "data": {
      "text/plain": "\nOperations Problem Specification\n============================================\nTransmission: PowerSimulations.CopperPlatePowerModel\n============================================\nDevices Models: \n\n============================================\nBranches Models: \n\n============================================\nServices Models:\n\n============================================\n"
     },
     "metadata": {},
     "execution_count": 6
    }
   ],
   "cell_type": "code",
   "source": [
    "template_uc = OperationsProblemTemplate()"
   ],
   "metadata": {},
   "execution_count": 6
  },
  {
   "cell_type": "markdown",
   "source": [
    "Now, you can add a `DeviceModel` for each device type to create an assignment between PowerSystems device types\n",
    "and the subtypes of `AbstractDeviceFormulation`. PowerSimulations has a variety of different\n",
    "`AbstractDeviceFormulation` subtypes that can be applied to different PowerSystems device types,\n",
    "each dispatching to different methods for populating optimization problem objectives, variables,\n",
    "and constraints."
   ],
   "metadata": {}
  },
  {
   "outputs": [
    {
     "name": "stdout",
     "output_type": "stream",
     "text": [
      "AbstractDeviceFormulation\n",
      "├─ AbstractBranchFormulation\n",
      "│  ├─ AbstractDCLineFormulation\n",
      "│  │  ├─ HVDCDispatch\n",
      "│  │  ├─ HVDCLossless\n",
      "│  │  └─ HVDCUnbounded\n",
      "│  ├─ StaticBranch\n",
      "│  ├─ StaticBranchBounds\n",
      "│  └─ StaticBranchUnbounded\n",
      "├─ AbstractHydroFormulation\n",
      "│  ├─ AbstractHydroDispatchFormulation\n",
      "│  │  ├─ AbstractHydroReservoirFormulation\n",
      "│  │  │  ├─ HydroDispatchPumpedStorage\n",
      "│  │  │  ├─ HydroDispatchPumpedStoragewReservation\n",
      "│  │  │  ├─ HydroDispatchReservoirBudget\n",
      "│  │  │  └─ HydroDispatchReservoirStorage\n",
      "│  │  └─ HydroDispatchRunOfRiver\n",
      "│  └─ AbstractHydroUnitCommitment\n",
      "│     ├─ HydroCommitmentReservoirBudget\n",
      "│     ├─ HydroCommitmentReservoirStorage\n",
      "│     └─ HydroCommitmentRunOfRiver\n",
      "├─ AbstractLoadFormulation\n",
      "│  ├─ AbstractControllablePowerLoadFormulation\n",
      "│  │  ├─ DispatchablePowerLoad\n",
      "│  │  └─ InterruptiblePowerLoad\n",
      "│  └─ StaticPowerLoad\n",
      "├─ AbstractRegulationFormulation\n",
      "│  ├─ DeviceLimitedRegulation\n",
      "│  └─ ReserveLimitedRegulation\n",
      "├─ AbstractRenewableFormulation\n",
      "│  └─ AbstractRenewableDispatchFormulation\n",
      "│     ├─ RenewableConstantPowerFactor\n",
      "│     └─ RenewableFullDispatch\n",
      "├─ AbstractStorageFormulation\n",
      "│  ├─ AbstractEnergyManagement\n",
      "│  │  └─ EnergyTarget\n",
      "│  ├─ BatteryAncillaryServices\n",
      "│  ├─ BookKeeping\n",
      "│  └─ BookKeepingwReservation\n",
      "├─ AbstractThermalFormulation\n",
      "│  ├─ AbstractThermalDispatchFormulation\n",
      "│  │  ├─ ThermalCompactDispatch\n",
      "│  │  ├─ ThermalDispatch\n",
      "│  │  ├─ ThermalDispatchNoMin\n",
      "│  │  └─ ThermalRampLimited\n",
      "│  └─ AbstractThermalUnitCommitment\n",
      "│     ├─ AbstractCompactUnitCommitment\n",
      "│     │  ├─ ThermalCompactUnitCommitment\n",
      "│     │  └─ ThermalMultiStartUnitCommitment\n",
      "│     └─ AbstractStandardUnitCommitment\n",
      "│        ├─ ThermalBasicUnitCommitment\n",
      "│        └─ ThermalStandardUnitCommitment\n",
      "└─ FixedOutput\n"
     ]
    }
   ],
   "cell_type": "code",
   "source": [
    "print_tree(PSI.AbstractDeviceFormulation)"
   ],
   "metadata": {},
   "execution_count": 7
  },
  {
   "cell_type": "markdown",
   "source": [
    "### Branch Formulations\n",
    "Here is an example of relatively standard branch formulations. Other formulations allow\n",
    "for selective enforcement of transmission limits and greater control on transformer settings."
   ],
   "metadata": {}
  },
  {
   "outputs": [],
   "cell_type": "code",
   "source": [
    "set_device_model!(template_uc, Line, StaticBranch)\n",
    "set_device_model!(template_uc, Transformer2W, StaticBranch)\n",
    "set_device_model!(template_uc, TapTransformer, StaticBranch)"
   ],
   "metadata": {},
   "execution_count": 8
  },
  {
   "cell_type": "markdown",
   "source": [
    "### Injection Device Formulations\n",
    "Here we define template entries for all devices that inject or withdraw power on the\n",
    "network. For each device type, we can define a distinct `AbstractDeviceFormulation`. In\n",
    "this case, we're defining a basic unit commitment model for thermal generators,\n",
    "curtailable renewable generators, and fixed dispatch (net-load reduction) formulations\n",
    "for `HydroDispatch` and `RenewableFix` devices."
   ],
   "metadata": {}
  },
  {
   "outputs": [],
   "cell_type": "code",
   "source": [
    "set_device_model!(template_uc, ThermalStandard, ThermalStandardUnitCommitment)\n",
    "set_device_model!(template_uc, RenewableDispatch, RenewableFullDispatch)\n",
    "set_device_model!(template_uc, PowerLoad, StaticPowerLoad)\n",
    "set_device_model!(template_uc, HydroDispatch, FixedOutput)\n",
    "set_device_model!(template_uc, HydroEnergyReservoir, HydroDispatchRunOfRiver)\n",
    "set_device_model!(template_uc, RenewableFix, FixedOutput)"
   ],
   "metadata": {},
   "execution_count": 9
  },
  {
   "cell_type": "markdown",
   "source": [
    "### Service Formulations\n",
    "We have two `VariableReserve` types, parameterized by their direction. So, similar to\n",
    "creating `DeviceModel`s, we can create `ServiceModel`s. The primary difference being\n",
    "that `DeviceModel` objects define how constraints get created, while `ServiceModel` objects\n",
    "define how constraints get modified."
   ],
   "metadata": {}
  },
  {
   "outputs": [],
   "cell_type": "code",
   "source": [
    "set_service_model!(template_uc, VariableReserve{ReserveUp}, RangeReserve)\n",
    "set_service_model!(template_uc, VariableReserve{ReserveDown}, RangeReserve)"
   ],
   "metadata": {},
   "execution_count": 10
  },
  {
   "cell_type": "markdown",
   "source": [
    "### Network Formulations\n",
    "Finally, we can define the transmission network specification that we'd like to model. For simplicity, we'll\n",
    "choose a copper plate formulation. But there are dozens of specifications available through\n",
    "an integration with [PowerModels.jl](https://github.com/lanl-ansi/powermodels.jl). *Note that\n",
    "many formulations will require appropriate data and may be computationally intractable*"
   ],
   "metadata": {}
  },
  {
   "outputs": [],
   "cell_type": "code",
   "source": [
    "set_transmission_model!(template_uc, CopperPlatePowerModel)"
   ],
   "metadata": {},
   "execution_count": 11
  },
  {
   "cell_type": "markdown",
   "source": [
    "## `OperationsProblem`\n",
    "Now that we have a `System` and an `OperationsProblemTemplate`, we can put the two together\n",
    "to create an `OperationsProblem` that we solve."
   ],
   "metadata": {}
  },
  {
   "cell_type": "markdown",
   "source": [
    "### Optimizer\n",
    "It's most convenient to define an optimizer instance upfront and pass it into the\n",
    "`OperationsProblem` constructor. For this example, we can use the free Cbc solver with a\n",
    "relatively relaxed MIP gap (`ratioGap`) setting to improve speed."
   ],
   "metadata": {}
  },
  {
   "outputs": [
    {
     "output_type": "execute_result",
     "data": {
      "text/plain": "MathOptInterface.OptimizerWithAttributes(Cbc.Optimizer, Pair{MathOptInterface.AbstractOptimizerAttribute, Any}[MathOptInterface.RawParameter(\"logLevel\") => 1, MathOptInterface.RawParameter(\"ratioGap\") => 0.5])"
     },
     "metadata": {},
     "execution_count": 12
    }
   ],
   "cell_type": "code",
   "source": [
    "solver = optimizer_with_attributes(Cbc.Optimizer, \"logLevel\" => 1, \"ratioGap\" => 0.5)"
   ],
   "metadata": {},
   "execution_count": 12
  },
  {
   "cell_type": "markdown",
   "source": [
    "### Build an `OperationsProblem`\n",
    "The construction of an `OperationsProblem` essentially applies an `OperationsProblemTemplate`\n",
    "to `System` data to create a JuMP model."
   ],
   "metadata": {}
  },
  {
   "outputs": [
    {
     "output_type": "execute_result",
     "data": {
      "text/plain": "PowerSimulations.BuildStatusModule.BuildStatus.BUILT = 0"
     },
     "metadata": {},
     "execution_count": 13
    }
   ],
   "cell_type": "code",
   "source": [
    "op_problem = OperationsProblem(template_uc, sys; optimizer = solver, horizon = 24)\n",
    "\n",
    "build!(op_problem, output_dir = mktempdir())"
   ],
   "metadata": {},
   "execution_count": 13
  },
  {
   "cell_type": "markdown",
   "source": [
    "The principal component of the `OperationsProblem` is the JuMP model. For small problems,\n",
    "you can inspect it by simply printing it to the screen:\n",
    "```julia\n",
    "op_problem.internal.optimization_container.JuMPmodel\n",
    "```\n",
    "\n",
    "For anything of reasonable size, that will be unmanageable. But you can print to a file:\n",
    "```julia\n",
    "f = open(\"testmodel.txt\",\"w\"); print(f,op_problem.internal.optimization_container.JuMPmodel); close(f)\n",
    "```\n",
    "\n",
    "In addition to the JuMP model, an `OperationsProblem` keeps track of a bunch of metadata\n",
    "about the problem and some references to pretty names for constraints and variables.\n",
    "All of these details are contained within the `optimization_container` field."
   ],
   "metadata": {}
  },
  {
   "outputs": [
    {
     "name": "stdout",
     "output_type": "stream",
     "text": [
      "mutable struct PowerSimulations.OptimizationContainer\n",
      "    JuMPmodel::JuMP.Model\n",
      "    time_steps::UnitRange{Int64}\n",
      "    resolution::Dates.TimePeriod\n",
      "    settings::PowerSimulations.Settings\n",
      "    settings_copy::PowerSimulations.Settings\n",
      "    variables::Dict{Symbol, AbstractArray}\n",
      "    aux_variables::Dict{PowerSimulations.AuxVarKey, AbstractArray}\n",
      "    constraints::Dict{Symbol, AbstractArray}\n",
      "    cost_function::JuMP.AbstractJuMPScalar\n",
      "    expressions::Dict{Symbol, JuMP.Containers.DenseAxisArray}\n",
      "    parameters::Dict{Symbol, PowerSimulations.ParameterContainer}\n",
      "    initial_conditions::PowerSimulations.InitialConditions\n",
      "    pm::Union{Nothing, PowerModels.AbstractPowerModel}\n",
      "    base_power::Float64\n",
      "    solve_timed_log::Dict{Symbol, Any}\n",
      "end\n"
     ]
    }
   ],
   "cell_type": "code",
   "source": [
    "print_struct(typeof(op_problem.internal.optimization_container))"
   ],
   "metadata": {},
   "execution_count": 14
  },
  {
   "cell_type": "markdown",
   "source": [
    "### Solve an `OperationsProblem`"
   ],
   "metadata": {}
  },
  {
   "outputs": [
    {
     "output_type": "execute_result",
     "data": {
      "text/plain": "PowerSimulations.RunStatusModule.RunStatus.SUCCESSFUL = 0"
     },
     "metadata": {},
     "execution_count": 15
    }
   ],
   "cell_type": "code",
   "source": [
    "solve!(op_problem)"
   ],
   "metadata": {},
   "execution_count": 15
  },
  {
   "cell_type": "markdown",
   "source": [
    "## Results Inspection\n",
    "PowerSimulations collects the `OperationsProblem` results into a struct:"
   ],
   "metadata": {}
  },
  {
   "outputs": [
    {
     "name": "stdout",
     "output_type": "stream",
     "text": [
      " struct PowerSimulations.ProblemResults\n",
      "    base_power::Float64\n",
      "    timestamps::StepRange{Dates.DateTime, Dates.Millisecond}\n",
      "    system::Union{Nothing, PowerSystems.System}\n",
      "    variable_values::Dict{Symbol, DataFrames.DataFrame}\n",
      "    dual_values::Dict{Symbol, DataFrames.DataFrame}\n",
      "    parameter_values::Dict{Symbol, DataFrames.DataFrame}\n",
      "    optimizer_stats::PowerSimulations.OptimizerStats\n",
      "    output_dir::String\n",
      "end\n"
     ]
    }
   ],
   "cell_type": "code",
   "source": [
    "print_struct(PSI.ProblemResults)"
   ],
   "metadata": {},
   "execution_count": 16
  },
  {
   "outputs": [],
   "cell_type": "code",
   "source": [
    "res = ProblemResults(op_problem);"
   ],
   "metadata": {},
   "execution_count": 17
  },
  {
   "cell_type": "markdown",
   "source": [
    "### Optimizer Stats\n",
    "The optimizer summary is included"
   ],
   "metadata": {}
  },
  {
   "outputs": [
    {
     "output_type": "execute_result",
     "data": {
      "text/plain": "PowerSimulations.OptimizerStats(0, 0, 1.5862451806025987e6, 1, 1, 0, 7.941517114639282, 15.829380801, 1.158917799e9, 0.78771383)"
     },
     "metadata": {},
     "execution_count": 18
    }
   ],
   "cell_type": "code",
   "source": [
    "get_optimizer_stats(res)"
   ],
   "metadata": {},
   "execution_count": 18
  },
  {
   "cell_type": "markdown",
   "source": [
    "### Objective Function Value"
   ],
   "metadata": {}
  },
  {
   "outputs": [
    {
     "output_type": "execute_result",
     "data": {
      "text/plain": "1.5862451806025987e6"
     },
     "metadata": {},
     "execution_count": 19
    }
   ],
   "cell_type": "code",
   "source": [
    "get_objective_value(res)"
   ],
   "metadata": {},
   "execution_count": 19
  },
  {
   "cell_type": "markdown",
   "source": [
    "### Variable Values\n",
    "The solution value data frames for variables can be accessed by:"
   ],
   "metadata": {}
  },
  {
   "outputs": [
    {
     "output_type": "execute_result",
     "data": {
      "text/plain": "Dict{Symbol, DataFrames.DataFrame} with 10 entries:\n  Symbol(\"Reg_Down__Variab… => \u001b[1m24×52 DataFrame\u001b[0m…\n  :P__ThermalStandard       => \u001b[1m24×55 DataFrame\u001b[0m…\n  :start__ThermalStandard   => \u001b[1m24×55 DataFrame\u001b[0m…\n  :P__RenewableDispatch     => \u001b[1m24×30 DataFrame\u001b[0m…\n  Symbol(\"Reg_Up__Variable… => \u001b[1m24×52 DataFrame\u001b[0m…\n  Symbol(\"Spin_Up_R1__Vari… => \u001b[1m24×17 DataFrame\u001b[0m…\n  Symbol(\"Spin_Up_R3__Vari… => \u001b[1m24×18 DataFrame\u001b[0m…\n  :stop__ThermalStandard    => \u001b[1m24×55 DataFrame\u001b[0m…\n  Symbol(\"Spin_Up_R2__Vari… => \u001b[1m24×19 DataFrame\u001b[0m…\n  :On__ThermalStandard      => \u001b[1m24×55 DataFrame\u001b[0m…"
     },
     "metadata": {},
     "execution_count": 20
    }
   ],
   "cell_type": "code",
   "source": [
    "variable_values = get_variables(res)"
   ],
   "metadata": {},
   "execution_count": 20
  },
  {
   "cell_type": "markdown",
   "source": [
    "## Plotting\n",
    "Take a look at the examples in [the plotting folder.](../../notebook/3_PowerSimulations_examples/Plotting)"
   ],
   "metadata": {}
  },
  {
   "cell_type": "markdown",
   "source": [
    "---\n",
    "\n",
    "*This notebook was generated using [Literate.jl](https://github.com/fredrikekre/Literate.jl).*"
   ],
   "metadata": {}
  }
 ],
 "nbformat_minor": 3,
 "metadata": {
  "language_info": {
   "file_extension": ".jl",
   "mimetype": "application/julia",
   "name": "julia",
   "version": "1.6.0"
  },
  "kernelspec": {
   "name": "julia-1.6",
   "display_name": "Julia 1.6.0",
   "language": "julia"
  }
 },
 "nbformat": 4
}
