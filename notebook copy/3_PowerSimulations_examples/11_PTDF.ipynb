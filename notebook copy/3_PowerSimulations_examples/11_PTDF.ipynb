{
 "cells": [
  {
   "cell_type": "markdown",
   "source": [
    "# PTDF with [PowerSimulations.jl](https://github.com/NREL-SIIP/PowerSimulations.jl)"
   ],
   "metadata": {}
  },
  {
   "cell_type": "markdown",
   "source": [
    "**Originally Contributed by**: Sourabh Dalvi"
   ],
   "metadata": {}
  },
  {
   "cell_type": "markdown",
   "source": [
    "## Introduction"
   ],
   "metadata": {}
  },
  {
   "cell_type": "markdown",
   "source": [
    "PowerSimulations.jl supports linear PTDF optimal power flow formulation. This example shows a\n",
    "single multi-period optimization of economic dispatch with a linearized DC-OPF representation of\n",
    "using PTDF power flow and how to extract duals values or locational marginal prices for energy."
   ],
   "metadata": {}
  },
  {
   "cell_type": "markdown",
   "source": [
    "## Dependencies"
   ],
   "metadata": {}
  },
  {
   "outputs": [],
   "cell_type": "code",
   "source": [
    "using SIIPExamples\n",
    "using PowerSystems\n",
    "using PowerSimulations\n",
    "using PowerSystemCaseBuilder\n",
    "using DataFrames"
   ],
   "metadata": {},
   "execution_count": 1
  },
  {
   "cell_type": "markdown",
   "source": [
    "Since we'll be retrieving duals, we need a solver that returns duals values\n",
    "here we use Ipopt."
   ],
   "metadata": {}
  },
  {
   "outputs": [
    {
     "output_type": "execute_result",
     "data": {
      "text/plain": "MathOptInterface.OptimizerWithAttributes(Ipopt.Optimizer, Pair{MathOptInterface.AbstractOptimizerAttribute, Any}[])"
     },
     "metadata": {},
     "execution_count": 2
    }
   ],
   "cell_type": "code",
   "source": [
    "using Ipopt\n",
    "solver = optimizer_with_attributes(Ipopt.Optimizer)"
   ],
   "metadata": {},
   "execution_count": 2
  },
  {
   "cell_type": "markdown",
   "source": [
    "We can use the same RTS data and some of the initialization as in\n",
    "[OperationsProblem example](https://nbviewer.jupyter.org/github/NREL-SIIP/SIIPExamples.jl/blob/master/notebook/3_PowerSimulations_examples/01_operations_problems.ipynb)"
   ],
   "metadata": {}
  },
  {
   "outputs": [
    {
     "name": "stdout",
     "output_type": "stream",
     "text": [
      "[ Info: Loaded time series from storage file existing=modified_RTS_GMLC_DA_sys_time_series_storage.h5 new=/var/folders/cl/82k90gj95354kc6wkt_csckskd0_94/T/jl_EqWo61 compression=InfrastructureSystems.CompressionSettings(false, InfrastructureSystems.CompressionTypesModule.CompressionTypes.DEFLATE = 1, 3, true)\n",
      "┌ Warning: Rate 500.0 MW for C31-2 is larger than the max expected in the range of (min = 134.0, max = 145.0).\n",
      "└ @ PowerSystems ~/.julia/packages/PowerSystems/61h6O/src/utils/IO/branchdata_checks.jl:148\n",
      "┌ Warning: Rate 175.0 MW for B8 is larger than the max expected in the range of (min = 47.0, max = 52.0).\n",
      "└ @ PowerSystems ~/.julia/packages/PowerSystems/61h6O/src/utils/IO/branchdata_checks.jl:148\n",
      "┌ Warning: Rate 500.0 MW for B26 is larger than the max expected in the range of (min = 134.0, max = 145.0).\n",
      "└ @ PowerSystems ~/.julia/packages/PowerSystems/61h6O/src/utils/IO/branchdata_checks.jl:148\n",
      "┌ Warning: Rate 500.0 MW for A32-2 is larger than the max expected in the range of (min = 134.0, max = 145.0).\n",
      "└ @ PowerSystems ~/.julia/packages/PowerSystems/61h6O/src/utils/IO/branchdata_checks.jl:148\n",
      "┌ Warning: Rate 500.0 MW for CA-1 is larger than the max expected in the range of (min = 134.0, max = 145.0).\n",
      "└ @ PowerSystems ~/.julia/packages/PowerSystems/61h6O/src/utils/IO/branchdata_checks.jl:148\n",
      "┌ Warning: Rate 175.0 MW for A5 is larger than the max expected in the range of (min = 47.0, max = 52.0).\n",
      "└ @ PowerSystems ~/.julia/packages/PowerSystems/61h6O/src/utils/IO/branchdata_checks.jl:148\n",
      "┌ Warning: Rate 500.0 MW for B34 is larger than the max expected in the range of (min = 134.0, max = 145.0).\n",
      "└ @ PowerSystems ~/.julia/packages/PowerSystems/61h6O/src/utils/IO/branchdata_checks.jl:148\n",
      "┌ Warning: Rate 500.0 MW for B19 is larger than the max expected in the range of (min = 134.0, max = 145.0).\n",
      "└ @ PowerSystems ~/.julia/packages/PowerSystems/61h6O/src/utils/IO/branchdata_checks.jl:148\n",
      "┌ Warning: Rate 500.0 MW for B31-2 is larger than the max expected in the range of (min = 134.0, max = 145.0).\n",
      "└ @ PowerSystems ~/.julia/packages/PowerSystems/61h6O/src/utils/IO/branchdata_checks.jl:148\n",
      "┌ Warning: Rate 500.0 MW for C30 is larger than the max expected in the range of (min = 134.0, max = 145.0).\n",
      "└ @ PowerSystems ~/.julia/packages/PowerSystems/61h6O/src/utils/IO/branchdata_checks.jl:148\n",
      "┌ Warning: Rate 500.0 MW for B27 is larger than the max expected in the range of (min = 134.0, max = 145.0).\n",
      "└ @ PowerSystems ~/.julia/packages/PowerSystems/61h6O/src/utils/IO/branchdata_checks.jl:148\n",
      "┌ Warning: Rate 500.0 MW for A21 is larger than the max expected in the range of (min = 134.0, max = 145.0).\n",
      "└ @ PowerSystems ~/.julia/packages/PowerSystems/61h6O/src/utils/IO/branchdata_checks.jl:148\n",
      "┌ Warning: Rate 500.0 MW for A32-1 is larger than the max expected in the range of (min = 134.0, max = 145.0).\n",
      "└ @ PowerSystems ~/.julia/packages/PowerSystems/61h6O/src/utils/IO/branchdata_checks.jl:148\n",
      "┌ Warning: Rate 500.0 MW for B29 is larger than the max expected in the range of (min = 134.0, max = 145.0).\n",
      "└ @ PowerSystems ~/.julia/packages/PowerSystems/61h6O/src/utils/IO/branchdata_checks.jl:148\n",
      "┌ Warning: Rate 500.0 MW for A18 is larger than the max expected in the range of (min = 134.0, max = 145.0).\n",
      "└ @ PowerSystems ~/.julia/packages/PowerSystems/61h6O/src/utils/IO/branchdata_checks.jl:148\n",
      "┌ Warning: Rate 175.0 MW for C5 is larger than the max expected in the range of (min = 47.0, max = 52.0).\n",
      "└ @ PowerSystems ~/.julia/packages/PowerSystems/61h6O/src/utils/IO/branchdata_checks.jl:148\n",
      "┌ Warning: Rate 175.0 MW for C13-2 is larger than the max expected in the range of (min = 47.0, max = 52.0).\n",
      "└ @ PowerSystems ~/.julia/packages/PowerSystems/61h6O/src/utils/IO/branchdata_checks.jl:148\n",
      "┌ Warning: Rate 500.0 MW for C24 is larger than the max expected in the range of (min = 134.0, max = 145.0).\n",
      "└ @ PowerSystems ~/.julia/packages/PowerSystems/61h6O/src/utils/IO/branchdata_checks.jl:148\n",
      "┌ Warning: Rate 500.0 MW for C28 is larger than the max expected in the range of (min = 134.0, max = 145.0).\n",
      "└ @ PowerSystems ~/.julia/packages/PowerSystems/61h6O/src/utils/IO/branchdata_checks.jl:148\n",
      "┌ Warning: Rate 500.0 MW for A29 is larger than the max expected in the range of (min = 134.0, max = 145.0).\n",
      "└ @ PowerSystems ~/.julia/packages/PowerSystems/61h6O/src/utils/IO/branchdata_checks.jl:148\n",
      "┌ Warning: Rate 175.0 MW for A3 is larger than the max expected in the range of (min = 47.0, max = 52.0).\n",
      "└ @ PowerSystems ~/.julia/packages/PowerSystems/61h6O/src/utils/IO/branchdata_checks.jl:148\n",
      "┌ Warning: Rate 175.0 MW for AB1 is larger than the max expected in the range of (min = 47.0, max = 52.0).\n",
      "└ @ PowerSystems ~/.julia/packages/PowerSystems/61h6O/src/utils/IO/branchdata_checks.jl:148\n",
      "┌ Warning: Rate 500.0 MW for AB2 is larger than the max expected in the range of (min = 134.0, max = 145.0).\n",
      "└ @ PowerSystems ~/.julia/packages/PowerSystems/61h6O/src/utils/IO/branchdata_checks.jl:148\n",
      "┌ Warning: Rate 500.0 MW for C27 is larger than the max expected in the range of (min = 134.0, max = 145.0).\n",
      "└ @ PowerSystems ~/.julia/packages/PowerSystems/61h6O/src/utils/IO/branchdata_checks.jl:148\n",
      "┌ Warning: Rate 722.0 MW for C35 is larger than the max expected in the range of (min = 134.0, max = 145.0).\n",
      "└ @ PowerSystems ~/.julia/packages/PowerSystems/61h6O/src/utils/IO/branchdata_checks.jl:148\n",
      "┌ Warning: Rate 500.0 MW for A25-1 is larger than the max expected in the range of (min = 134.0, max = 145.0).\n",
      "└ @ PowerSystems ~/.julia/packages/PowerSystems/61h6O/src/utils/IO/branchdata_checks.jl:148\n",
      "┌ Warning: Rate 175.0 MW for B5 is larger than the max expected in the range of (min = 47.0, max = 52.0).\n",
      "└ @ PowerSystems ~/.julia/packages/PowerSystems/61h6O/src/utils/IO/branchdata_checks.jl:148\n",
      "┌ Warning: Rate 175.0 MW for B2 is larger than the max expected in the range of (min = 47.0, max = 52.0).\n",
      "└ @ PowerSystems ~/.julia/packages/PowerSystems/61h6O/src/utils/IO/branchdata_checks.jl:148\n",
      "┌ Warning: Rate 500.0 MW for B31-1 is larger than the max expected in the range of (min = 134.0, max = 145.0).\n",
      "└ @ PowerSystems ~/.julia/packages/PowerSystems/61h6O/src/utils/IO/branchdata_checks.jl:148\n",
      "┌ Warning: Rate 500.0 MW for C20 is larger than the max expected in the range of (min = 134.0, max = 145.0).\n",
      "└ @ PowerSystems ~/.julia/packages/PowerSystems/61h6O/src/utils/IO/branchdata_checks.jl:148\n",
      "┌ Warning: Rate 500.0 MW for B23 is larger than the max expected in the range of (min = 134.0, max = 145.0).\n",
      "└ @ PowerSystems ~/.julia/packages/PowerSystems/61h6O/src/utils/IO/branchdata_checks.jl:148\n",
      "┌ Warning: Rate 500.0 MW for A28 is larger than the max expected in the range of (min = 134.0, max = 145.0).\n",
      "└ @ PowerSystems ~/.julia/packages/PowerSystems/61h6O/src/utils/IO/branchdata_checks.jl:148\n",
      "┌ Warning: Rate 500.0 MW for A19 is larger than the max expected in the range of (min = 134.0, max = 145.0).\n",
      "└ @ PowerSystems ~/.julia/packages/PowerSystems/61h6O/src/utils/IO/branchdata_checks.jl:148\n",
      "┌ Warning: Rate 175.0 MW for C9 is larger than the max expected in the range of (min = 47.0, max = 52.0).\n",
      "└ @ PowerSystems ~/.julia/packages/PowerSystems/61h6O/src/utils/IO/branchdata_checks.jl:148\n",
      "┌ Warning: Rate 175.0 MW for C1 is larger than the max expected in the range of (min = 47.0, max = 52.0).\n",
      "└ @ PowerSystems ~/.julia/packages/PowerSystems/61h6O/src/utils/IO/branchdata_checks.jl:148\n",
      "┌ Warning: Rate 175.0 MW for C2 is larger than the max expected in the range of (min = 47.0, max = 52.0).\n",
      "└ @ PowerSystems ~/.julia/packages/PowerSystems/61h6O/src/utils/IO/branchdata_checks.jl:148\n",
      "┌ Warning: Rate 500.0 MW for B25-1 is larger than the max expected in the range of (min = 134.0, max = 145.0).\n",
      "└ @ PowerSystems ~/.julia/packages/PowerSystems/61h6O/src/utils/IO/branchdata_checks.jl:148\n",
      "┌ Warning: Rate 175.0 MW for A9 is larger than the max expected in the range of (min = 47.0, max = 52.0).\n",
      "└ @ PowerSystems ~/.julia/packages/PowerSystems/61h6O/src/utils/IO/branchdata_checks.jl:148\n",
      "┌ Warning: Rate 175.0 MW for C11 is larger than the max expected in the range of (min = 47.0, max = 52.0).\n",
      "└ @ PowerSystems ~/.julia/packages/PowerSystems/61h6O/src/utils/IO/branchdata_checks.jl:148\n",
      "┌ Warning: Rate 500.0 MW for C19 is larger than the max expected in the range of (min = 134.0, max = 145.0).\n",
      "└ @ PowerSystems ~/.julia/packages/PowerSystems/61h6O/src/utils/IO/branchdata_checks.jl:148\n",
      "┌ Warning: Rate 500.0 MW for C23 is larger than the max expected in the range of (min = 134.0, max = 145.0).\n",
      "└ @ PowerSystems ~/.julia/packages/PowerSystems/61h6O/src/utils/IO/branchdata_checks.jl:148\n",
      "┌ Warning: Rate 500.0 MW for C25-1 is larger than the max expected in the range of (min = 134.0, max = 145.0).\n",
      "└ @ PowerSystems ~/.julia/packages/PowerSystems/61h6O/src/utils/IO/branchdata_checks.jl:148\n",
      "┌ Warning: Rate 500.0 MW for C32-2 is larger than the max expected in the range of (min = 134.0, max = 145.0).\n",
      "└ @ PowerSystems ~/.julia/packages/PowerSystems/61h6O/src/utils/IO/branchdata_checks.jl:148\n",
      "┌ Warning: Rate 500.0 MW for B20 is larger than the max expected in the range of (min = 134.0, max = 145.0).\n",
      "└ @ PowerSystems ~/.julia/packages/PowerSystems/61h6O/src/utils/IO/branchdata_checks.jl:148\n",
      "┌ Warning: Rate 175.0 MW for B9 is larger than the max expected in the range of (min = 47.0, max = 52.0).\n",
      "└ @ PowerSystems ~/.julia/packages/PowerSystems/61h6O/src/utils/IO/branchdata_checks.jl:148\n",
      "┌ Warning: Rate 500.0 MW for C25-2 is larger than the max expected in the range of (min = 134.0, max = 145.0).\n",
      "└ @ PowerSystems ~/.julia/packages/PowerSystems/61h6O/src/utils/IO/branchdata_checks.jl:148\n",
      "┌ Warning: Rate 175.0 MW for C12-1 is larger than the max expected in the range of (min = 47.0, max = 52.0).\n",
      "└ @ PowerSystems ~/.julia/packages/PowerSystems/61h6O/src/utils/IO/branchdata_checks.jl:148\n",
      "┌ Warning: Rate 500.0 MW for A27 is larger than the max expected in the range of (min = 134.0, max = 145.0).\n",
      "└ @ PowerSystems ~/.julia/packages/PowerSystems/61h6O/src/utils/IO/branchdata_checks.jl:148\n",
      "┌ Warning: Rate 500.0 MW for C21 is larger than the max expected in the range of (min = 134.0, max = 145.0).\n",
      "└ @ PowerSystems ~/.julia/packages/PowerSystems/61h6O/src/utils/IO/branchdata_checks.jl:148\n",
      "┌ Warning: Rate 500.0 MW for A34 is larger than the max expected in the range of (min = 134.0, max = 145.0).\n",
      "└ @ PowerSystems ~/.julia/packages/PowerSystems/61h6O/src/utils/IO/branchdata_checks.jl:148\n"
     ]
    },
    {
     "output_type": "execute_result",
     "data": {
      "text/plain": "System\n======\nSystem Units Base: SYSTEM_BASE\nBase Power: 100.0\nBase Frequency: 60.0\n\nComponents\n==========\nNum components: 497\n\n\u001b[1m13×3 DataFrame\u001b[0m\n\u001b[1m Row \u001b[0m│\u001b[1m ConcreteType                      \u001b[0m\u001b[1m SuperTypes                        \u001b[0m\n\u001b[1m     \u001b[0m│\u001b[90m String                            \u001b[0m\u001b[90m String                            \u001b[0m\n─────┼──────────────────────────────────────────────────────────────────────────\n   1 │ Arc                                Topology <: Component <: Infrast…\n   2 │ Area                               AggregationTopology <: Topology …\n   3 │ Bus                                Topology <: Component <: Infrast…\n   4 │ HydroDispatch                      HydroGen <: Generator <: StaticI…\n   5 │ Line                               ACBranch <: Branch <: Device <: …\n   6 │ LoadZone                           AggregationTopology <: Topology …\n   7 │ PowerLoad                          StaticLoad <: ElectricLoad <: St…\n   8 │ RenewableDispatch                  RenewableGen <: Generator <: Sta…\n   9 │ RenewableFix                       RenewableGen <: Generator <: Sta…\n  10 │ TapTransformer                     ACBranch <: Branch <: Device <: …\n  11 │ ThermalStandard                    ThermalGen <: Generator <: Stati…\n  12 │ VariableReserve{PowerSystems.Res…  Reserve{PowerSystems.ReserveDown…\n  13 │ VariableReserve{PowerSystems.Res…  Reserve{PowerSystems.ReserveUp} …\n\u001b[36m                                                               1 column omitted\u001b[0m\n\nTimeSeriesContainer\n===================\nComponents with time series data: 120\nTotal StaticTimeSeries: 122\nTotal Forecasts: 122\nResolution: 60 minutes\nFirst initial time: 2020-01-01T00:00:00\nLast initial time: 2020-12-30T00:00:00\nHorizon: 48\nInterval: 1440 minutes\nForecast window count: 365\n",
      "text/html": [
       "<h1>System</h1>\n",
       "<p><b>Base Power</b>: 100.0</p>\n",
       "<h2>Components</h2>\n",
       "<p><b>Num components</b>: 497</p>\n",
       "<div class=\"data-frame\"><p>13 rows × 3 columns</p><table class=\"data-frame\"><thead><tr><th></th><th>ConcreteType</th><th>SuperTypes</th><th>Count</th></tr><tr><th></th><th title=\"String\">String</th><th title=\"String\">String</th><th title=\"Int64\">Int64</th></tr></thead><tbody><tr><th>1</th><td>Arc</td><td>Topology &lt;: Component &lt;: InfrastructureSystemsComponent &lt;: InfrastructureSystemsType &lt;: Any</td><td>109</td></tr><tr><th>2</th><td>Area</td><td>AggregationTopology &lt;: Topology &lt;: Component &lt;: InfrastructureSystemsComponent &lt;: InfrastructureSystemsType &lt;: Any</td><td>3</td></tr><tr><th>3</th><td>Bus</td><td>Topology &lt;: Component &lt;: InfrastructureSystemsComponent &lt;: InfrastructureSystemsType &lt;: Any</td><td>73</td></tr><tr><th>4</th><td>HydroDispatch</td><td>HydroGen &lt;: Generator &lt;: StaticInjection &lt;: Device &lt;: Component &lt;: InfrastructureSystemsComponent &lt;: InfrastructureSystemsType &lt;: Any</td><td>1</td></tr><tr><th>5</th><td>Line</td><td>ACBranch &lt;: Branch &lt;: Device &lt;: Component &lt;: InfrastructureSystemsComponent &lt;: InfrastructureSystemsType &lt;: Any</td><td>105</td></tr><tr><th>6</th><td>LoadZone</td><td>AggregationTopology &lt;: Topology &lt;: Component &lt;: InfrastructureSystemsComponent &lt;: InfrastructureSystemsType &lt;: Any</td><td>21</td></tr><tr><th>7</th><td>PowerLoad</td><td>StaticLoad &lt;: ElectricLoad &lt;: StaticInjection &lt;: Device &lt;: Component &lt;: InfrastructureSystemsComponent &lt;: InfrastructureSystemsType &lt;: Any</td><td>51</td></tr><tr><th>8</th><td>RenewableDispatch</td><td>RenewableGen &lt;: Generator &lt;: StaticInjection &lt;: Device &lt;: Component &lt;: InfrastructureSystemsComponent &lt;: InfrastructureSystemsType &lt;: Any</td><td>29</td></tr><tr><th>9</th><td>RenewableFix</td><td>RenewableGen &lt;: Generator &lt;: StaticInjection &lt;: Device &lt;: Component &lt;: InfrastructureSystemsComponent &lt;: InfrastructureSystemsType &lt;: Any</td><td>31</td></tr><tr><th>10</th><td>TapTransformer</td><td>ACBranch &lt;: Branch &lt;: Device &lt;: Component &lt;: InfrastructureSystemsComponent &lt;: InfrastructureSystemsType &lt;: Any</td><td>15</td></tr><tr><th>11</th><td>ThermalStandard</td><td>ThermalGen &lt;: Generator &lt;: StaticInjection &lt;: Device &lt;: Component &lt;: InfrastructureSystemsComponent &lt;: InfrastructureSystemsType &lt;: Any</td><td>54</td></tr><tr><th>12</th><td>VariableReserve{PowerSystems.ReserveDown}</td><td>Reserve{PowerSystems.ReserveDown} &lt;: Service &lt;: Component &lt;: InfrastructureSystemsComponent &lt;: InfrastructureSystemsType &lt;: Any</td><td>1</td></tr><tr><th>13</th><td>VariableReserve{PowerSystems.ReserveUp}</td><td>Reserve{PowerSystems.ReserveUp} &lt;: Service &lt;: Component &lt;: InfrastructureSystemsComponent &lt;: InfrastructureSystemsType &lt;: Any</td><td>4</td></tr></tbody></table></div>\n",
       "\n",
       "<h2>TimeSeriesContainer</h2>\n",
       "<p><b>Components with time series data</b>: 120</p>\n",
       "<p><b>Total StaticTimeSeries</b>: 122</p>\n",
       "<p><b>Total Forecasts</b>: 122</p>\n",
       "<p><b>Resolution</b>: 60 minutes</p>\n",
       "<p><b>First initial time</b>: 2020-01-01T00:00:00</p>\n",
       "<p><b>Last initial time</b>: 2020-12-30T00:00:00</p>\n",
       "<p><b>Horizon</b>: 48</p>\n",
       "<p><b>Interval</b>: 1440 minutes</p>\n",
       "<p><b>Forecast window count</b>: 365</p>\n"
      ]
     },
     "metadata": {},
     "execution_count": 3
    }
   ],
   "cell_type": "code",
   "source": [
    "sys = build_system(PSITestSystems, \"modified_RTS_GMLC_DA_sys\")"
   ],
   "metadata": {},
   "execution_count": 3
  },
  {
   "cell_type": "markdown",
   "source": [
    "Here, we want do define an economic dispatch (linear generation decisions) with\n",
    "linear DC-OPF using PTDF network representation.\n",
    "So, starting with the network, we can select from _almost_ any of the endpoints on this\n",
    "tree:"
   ],
   "metadata": {}
  },
  {
   "outputs": [
    {
     "name": "stdout",
     "output_type": "stream",
     "text": [
      "AbstractPowerModel\n",
      "├─ AbstractACPModel\n",
      "│  └─ ACPPowerModel\n",
      "├─ AbstractACRModel\n",
      "│  ├─ ACRPowerModel\n",
      "│  └─ AbstractIVRModel\n",
      "│     └─ IVRPowerModel\n",
      "├─ AbstractACTModel\n",
      "│  └─ ACTPowerModel\n",
      "├─ AbstractActivePowerModel\n",
      "│  ├─ AbstractDCPModel\n",
      "│  │  ├─ AbstractDCMPPModel\n",
      "│  │  │  └─ DCMPPowerModel\n",
      "│  │  ├─ AbstractDCPLLModel\n",
      "│  │  │  └─ DCPLLPowerModel\n",
      "│  │  ├─ AbstractNFAModel\n",
      "│  │  │  └─ NFAPowerModel\n",
      "│  │  ├─ DCPPowerModel\n",
      "│  │  └─ AbstractPTDFModel\n",
      "│  │     ├─ PTDFPowerModel\n",
      "│  │     └─ StandardPTDFModel\n",
      "│  ├─ AreaBalancePowerModel\n",
      "│  └─ CopperPlatePowerModel\n",
      "├─ AbstractBFModel\n",
      "│  ├─ AbstractBFAModel\n",
      "│  │  └─ BFAPowerModel\n",
      "│  ├─ AbstractBFConicModel\n",
      "│  │  └─ AbstractSOCBFConicModel\n",
      "│  │     └─ SOCBFConicPowerModel\n",
      "│  └─ AbstractBFQPModel\n",
      "│     └─ AbstractSOCBFModel\n",
      "│        └─ SOCBFPowerModel\n",
      "├─ AbstractConicModel\n",
      "│  ├─ AbstractWRConicModel\n",
      "│  │  └─ AbstractSOCWRConicModel\n",
      "│  │     └─ SOCWRConicPowerModel\n",
      "│  └─ AbstractWRMModel\n",
      "│     └─ AbstractSDPWRMModel\n",
      "│        ├─ AbstractSparseSDPWRMModel\n",
      "│        │  └─ SparseSDPWRMPowerModel\n",
      "│        │     ⋮\n",
      "│        │     \n",
      "│        └─ SDPWRMPowerModel\n",
      "├─ AbstractLPACModel\n",
      "│  └─ AbstractLPACCModel\n",
      "│     └─ LPACCPowerModel\n",
      "└─ AbstractWRModel\n",
      "   ├─ AbstractQCWRModel\n",
      "   │  ├─ AbstractQCLSModel\n",
      "   │  │  └─ QCLSPowerModel\n",
      "   │  └─ AbstractQCRMPowerModel\n",
      "   │     └─ QCRMPowerModel\n",
      "   └─ AbstractSOCWRModel\n",
      "      └─ SOCWRPowerModel\n"
     ]
    }
   ],
   "cell_type": "code",
   "source": [
    "print_tree(PowerSimulations.PM.AbstractPowerModel)"
   ],
   "metadata": {},
   "execution_count": 4
  },
  {
   "cell_type": "markdown",
   "source": [
    "For now, let's just choose a standard PTDF formulation."
   ],
   "metadata": {}
  },
  {
   "outputs": [
    {
     "output_type": "execute_result",
     "data": {
      "text/plain": "\nOperations Problem Specification\n============================================\nTransmission: PowerSimulations.StandardPTDFModel\n============================================\nDevices Models: \n\n\tType: PowerSystems.ThermalStandard\n \tFormulation: PowerSimulations.ThermalDispatch\n\n\tType: PowerSystems.HydroEnergyReservoir\n \tFormulation: PowerSimulations.HydroDispatchRunOfRiver\n\n\tType: PowerSystems.RenewableDispatch\n \tFormulation: PowerSimulations.RenewableFullDispatch\n\n\tType: PowerSystems.PowerLoad\n \tFormulation: PowerSimulations.StaticPowerLoad\n\n\tType: PowerSystems.InterruptibleLoad\n \tFormulation: PowerSimulations.InterruptiblePowerLoad\n\n\tType: PowerSystems.RenewableFix\n \tFormulation: PowerSimulations.FixedOutput\n\n\tType: PowerSystems.HydroDispatch\n \tFormulation: PowerSimulations.HydroDispatchRunOfRiver\n\n============================================\nBranches Models: \n\n\tType: PowerSystems.Transformer2W\n \tFormulation: PowerSimulations.StaticBranch\n\n\tType: PowerSystems.Line\n \tFormulation: PowerSimulations.StaticBranch\n\n\tType: PowerSystems.HVDCLine\n \tFormulation: PowerSimulations.HVDCDispatch\n\n\tType: PowerSystems.TapTransformer\n \tFormulation: PowerSimulations.StaticBranch\n\n============================================\nServices Models:\n\n\tType: PowerSystems.VariableReserve{PowerSystems.ReserveDown}\n \tFormulation: PowerSimulations.RangeReserve\n\n\tType: PowerSystems.VariableReserve{PowerSystems.ReserveUp}\n \tFormulation: PowerSimulations.RangeReserve\n\n============================================\n"
     },
     "metadata": {},
     "execution_count": 5
    }
   ],
   "cell_type": "code",
   "source": [
    "ed_template = template_economic_dispatch(network = StandardPTDFModel)"
   ],
   "metadata": {},
   "execution_count": 5
  },
  {
   "cell_type": "markdown",
   "source": [
    "Currently  energy budget data isn't stored in the RTS-GMLC dataset."
   ],
   "metadata": {}
  },
  {
   "outputs": [
    {
     "name": "stdout",
     "output_type": "stream",
     "text": [
      "[ Info: Overwriting PowerSystems.HydroEnergyReservoir existing model\n"
     ]
    }
   ],
   "cell_type": "code",
   "source": [
    "set_device_model!(ed_template, HydroEnergyReservoir, HydroDispatchRunOfRiver)"
   ],
   "metadata": {},
   "execution_count": 6
  },
  {
   "cell_type": "markdown",
   "source": [
    "Calculate the PTDF matrix."
   ],
   "metadata": {}
  },
  {
   "outputs": [
    {
     "output_type": "execute_result",
     "data": {
      "text/plain": "PowerNetworkMatrix\n:\n  0.436221     -0.506679     0.0955772    …   0.0139213    0.0168526\n  0.242695      0.220093    -0.199576        -0.0291078   -0.0352191\n  0.321083      0.286586     0.103999         0.0151865    0.0183664\n  0.240805      0.269317     0.029752         0.00430723   0.00522632\n  0.195416      0.224003     0.0658252        0.00961407   0.0116263\n  0.0884399     0.0729336    0.422869     …   0.0616101    0.0745751\n  0.154255      0.14716      0.377554        -0.0907179   -0.109794\n  0.240805      0.269317     0.029752         0.00430723   0.00522632\n  0.321083      0.286586     0.103999         0.0151865    0.0183664\n  0.195416      0.224003     0.0658252        0.00961407   0.0116263\n  ⋮                                       ⋱               \n -0.00640688   -0.00621149  -0.0125463       -0.170422    -0.0870865\n -0.00640688   -0.00621149  -0.0125463       -0.170422    -0.0870865\n -0.0101178    -0.00980923  -0.0198131        0.129136    -0.137527\n -0.0101178    -0.00980923  -0.0198131        0.129136    -0.137527\n -0.0101178    -0.00980923  -0.0198131    …   0.129136    -0.137527\n -0.0101178    -0.00980923  -0.0198131        0.129136    -0.137527\n -0.000301309  -0.00029212  -0.000590038      0.0124161   -0.00409559\n -0.0284356    -0.0275684   -0.0556839        0.496086    -0.386515\n -0.0284356    -0.0275684   -0.0556839        0.496086     0.613485"
     },
     "metadata": {},
     "execution_count": 7
    }
   ],
   "cell_type": "code",
   "source": [
    "PTDF_matrix = PTDF(sys)"
   ],
   "metadata": {},
   "execution_count": 7
  },
  {
   "cell_type": "markdown",
   "source": [
    "Now we can build a 4-hour economic dispatch / OPF problem with the RTS data.\n",
    "Here, we have to pass the keyword argument `constraint_duals` to OperationsProblem\n",
    "with the name of the constraint for which duals are required for them to be returned in the results."
   ],
   "metadata": {}
  },
  {
   "outputs": [
    {
     "output_type": "execute_result",
     "data": {
      "text/plain": "PowerSimulations.BuildStatusModule.BuildStatus.BUILT = 0"
     },
     "metadata": {},
     "execution_count": 8
    }
   ],
   "cell_type": "code",
   "source": [
    "problem = OperationsProblem(\n",
    "    EconomicDispatchProblem,\n",
    "    ed_template,\n",
    "    sys,\n",
    "    horizon = 1,\n",
    "    optimizer = solver,\n",
    "    balance_slack_variables = true,\n",
    "    constraint_duals = [\n",
    "        :CopperPlateBalance,\n",
    "        :network_flow__Line,\n",
    "        :network_flow__TapTransformer,\n",
    "    ],\n",
    "    PTDF = PTDF_matrix,\n",
    ")\n",
    "build!(problem, output_dir = mktempdir())"
   ],
   "metadata": {},
   "execution_count": 8
  },
  {
   "cell_type": "markdown",
   "source": [
    "And solve the problem and collect the results"
   ],
   "metadata": {}
  },
  {
   "outputs": [
    {
     "name": "stdout",
     "output_type": "stream",
     "text": [
      "\n",
      "******************************************************************************\n",
      "This program contains Ipopt, a library for large-scale nonlinear optimization.\n",
      " Ipopt is released as open source code under the Eclipse Public License (EPL).\n",
      "         For more information visit https://github.com/coin-or/Ipopt\n",
      "******************************************************************************\n",
      "\n"
     ]
    },
    {
     "output_type": "execute_result",
     "data": {
      "text/plain": "PowerSimulations.RunStatusModule.RunStatus.SUCCESSFUL = 0"
     },
     "metadata": {},
     "execution_count": 9
    }
   ],
   "cell_type": "code",
   "source": [
    "solve!(problem)"
   ],
   "metadata": {},
   "execution_count": 9
  },
  {
   "cell_type": "markdown",
   "source": [
    "Here we collect the dual values from the results for the `:CopperPlateBalance` and `:network_flow`\n",
    "constraints. In the case of PTDF network formulation we need to compute the final LMP for each bus in the system by\n",
    "subtracting the duals (μ) of `:network_flow` constraints multiplied by the PTDF matrix\n",
    "from the  dual (λ) of `:CopperPlateBalance` constraint."
   ],
   "metadata": {}
  },
  {
   "outputs": [
    {
     "output_type": "execute_result",
     "data": {
      "text/plain": "1×120 Matrix{Union{Missing, Float64}}:\n -3.28445e-6  2.33489e-8  -5.18465e-6  …  3.30116e-7  1.15688e-6  2.608e-6"
     },
     "metadata": {},
     "execution_count": 10
    }
   ],
   "cell_type": "code",
   "source": [
    "res = ProblemResults(problem)\n",
    "duals = get_duals(res)\n",
    "λ = convert(Array, duals[:CopperPlateBalance][:, :CopperPlateBalance])\n",
    "flow_duals = outerjoin(\n",
    "    [duals[k] for k in [:network_flow__Line, :network_flow__TapTransformer]]...,\n",
    "    on = :DateTime,\n",
    ")\n",
    "μ = Matrix(flow_duals[:, PTDF_matrix.axes[1]])"
   ],
   "metadata": {},
   "execution_count": 10
  },
  {
   "cell_type": "markdown",
   "source": [
    "Here we create Dict to store the calculate congestion component of the LMP which is a product of μ and the PTDF matrix."
   ],
   "metadata": {}
  },
  {
   "outputs": [
    {
     "output_type": "execute_result",
     "data": {
      "text/plain": "\u001b[1m1×73 DataFrame\u001b[0m\n\u001b[1m Row \u001b[0m│\u001b[1m Abel        \u001b[0m\u001b[1m Adams      \u001b[0m\u001b[1m Adler       \u001b[0m\u001b[1m Agricola   \u001b[0m\u001b[1m Aiken      \u001b[0m\u001b[1m Alber    \u001b[0m ⋯\n\u001b[1m     \u001b[0m│\u001b[90m Float64?    \u001b[0m\u001b[90m Float64?   \u001b[0m\u001b[90m Float64?    \u001b[0m\u001b[90m Float64?   \u001b[0m\u001b[90m Float64?   \u001b[0m\u001b[90m Float64? \u001b[0m ⋯\n─────┼──────────────────────────────────────────────────────────────────────────\n   1 │ -1.59047e-6  1.73111e-6  -4.06684e-7  4.24378e-6  2.88246e-6  6.89349e- ⋯\n\u001b[36m                                                              68 columns omitted\u001b[0m",
      "text/html": [
       "<div class=\"data-frame\"><p>1 rows × 73 columns (omitted printing of 66 columns)</p><table class=\"data-frame\"><thead><tr><th></th><th>Abel</th><th>Adams</th><th>Adler</th><th>Agricola</th><th>Aiken</th><th>Alber</th><th>Alder</th></tr><tr><th></th><th title=\"Union{Missing, Float64}\">Float64?</th><th title=\"Union{Missing, Float64}\">Float64?</th><th title=\"Union{Missing, Float64}\">Float64?</th><th title=\"Union{Missing, Float64}\">Float64?</th><th title=\"Union{Missing, Float64}\">Float64?</th><th title=\"Union{Missing, Float64}\">Float64?</th><th title=\"Union{Missing, Float64}\">Float64?</th></tr></thead><tbody><tr><th>1</th><td>-1.59047e-6</td><td>1.73111e-6</td><td>-4.06684e-7</td><td>4.24378e-6</td><td>2.88246e-6</td><td>6.89349e-6</td><td>-8.91662e-6</td></tr></tbody></table></div>"
      ]
     },
     "metadata": {},
     "execution_count": 11
    }
   ],
   "cell_type": "code",
   "source": [
    "buses = get_components(Bus, sys)\n",
    "congestion_lmp = Dict()\n",
    "for bus in buses\n",
    "    congestion_lmp[get_name(bus)] = μ * PTDF_matrix[:, get_number(bus)]\n",
    "end\n",
    "congestion_lmp = DataFrame(congestion_lmp)"
   ],
   "metadata": {},
   "execution_count": 11
  },
  {
   "cell_type": "markdown",
   "source": [
    "Finally here we get the LMP for each node in a lossless DC-OPF using the PTDF formulation."
   ],
   "metadata": {}
  },
  {
   "outputs": [
    {
     "output_type": "execute_result",
     "data": {
      "text/plain": "\u001b[1m1×73 DataFrame\u001b[0m\n\u001b[1m Row \u001b[0m│\u001b[1m Abel    \u001b[0m\u001b[1m Adams   \u001b[0m\u001b[1m Adler   \u001b[0m\u001b[1m Agricola \u001b[0m\u001b[1m Aiken   \u001b[0m\u001b[1m Alber   \u001b[0m\u001b[1m Alder   \u001b[0m\u001b[1m Alger  \u001b[0m ⋯\n\u001b[1m     \u001b[0m│\u001b[90m Float64 \u001b[0m\u001b[90m Float64 \u001b[0m\u001b[90m Float64 \u001b[0m\u001b[90m Float64  \u001b[0m\u001b[90m Float64 \u001b[0m\u001b[90m Float64 \u001b[0m\u001b[90m Float64 \u001b[0m\u001b[90m Float64\u001b[0m ⋯\n─────┼──────────────────────────────────────────────────────────────────────────\n   1 │  -1.0e6   -1.0e6   -1.0e6    -1.0e6   -1.0e6   -1.0e6   -1.0e6   -1.0e6 ⋯\n\u001b[36m                                                              65 columns omitted\u001b[0m",
      "text/html": [
       "<div class=\"data-frame\"><p>1 rows × 73 columns (omitted printing of 64 columns)</p><table class=\"data-frame\"><thead><tr><th></th><th>Abel</th><th>Adams</th><th>Adler</th><th>Agricola</th><th>Aiken</th><th>Alber</th><th>Alder</th><th>Alger</th><th>Ali</th></tr><tr><th></th><th title=\"Float64\">Float64</th><th title=\"Float64\">Float64</th><th title=\"Float64\">Float64</th><th title=\"Float64\">Float64</th><th title=\"Float64\">Float64</th><th title=\"Float64\">Float64</th><th title=\"Float64\">Float64</th><th title=\"Float64\">Float64</th><th title=\"Float64\">Float64</th></tr></thead><tbody><tr><th>1</th><td>-1.0e6</td><td>-1.0e6</td><td>-1.0e6</td><td>-1.0e6</td><td>-1.0e6</td><td>-1.0e6</td><td>-1.0e6</td><td>-1.0e6</td><td>-1.0e6</td></tr></tbody></table></div>"
      ]
     },
     "metadata": {},
     "execution_count": 12
    }
   ],
   "cell_type": "code",
   "source": [
    "LMP = λ .- congestion_lmp"
   ],
   "metadata": {},
   "execution_count": 12
  },
  {
   "cell_type": "markdown",
   "source": [
    "---\n",
    "\n",
    "*This notebook was generated using [Literate.jl](https://github.com/fredrikekre/Literate.jl).*"
   ],
   "metadata": {}
  }
 ],
 "nbformat_minor": 3,
 "metadata": {
  "language_info": {
   "file_extension": ".jl",
   "mimetype": "application/julia",
   "name": "julia",
   "version": "1.6.2"
  },
  "kernelspec": {
   "name": "julia-1.6",
   "display_name": "Julia 1.6.2",
   "language": "julia"
  }
 },
 "nbformat": 4
}
